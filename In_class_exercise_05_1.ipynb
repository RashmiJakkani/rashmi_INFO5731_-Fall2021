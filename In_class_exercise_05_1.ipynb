{
  "nbformat": 4,
  "nbformat_minor": 0,
  "metadata": {
    "kernelspec": {
      "display_name": "Python 3",
      "language": "python",
      "name": "python3"
    },
    "language_info": {
      "codemirror_mode": {
        "name": "ipython",
        "version": 3
      },
      "file_extension": ".py",
      "mimetype": "text/x-python",
      "name": "python",
      "nbconvert_exporter": "python",
      "pygments_lexer": "ipython3",
      "version": "3.8.5"
    },
    "colab": {
      "name": "In_class_exercise_05-1.ipynb",
      "provenance": [],
      "collapsed_sections": [],
      "include_colab_link": true
    }
  },
  "cells": [
    {
      "cell_type": "markdown",
      "metadata": {
        "id": "view-in-github",
        "colab_type": "text"
      },
      "source": [
        "<a href=\"https://colab.research.google.com/github/rjakkani1015/rashmi_INFO5731_-Fall2021/blob/main/In_class_exercise_05_1.ipynb\" target=\"_parent\"><img src=\"https://colab.research.google.com/assets/colab-badge.svg\" alt=\"Open In Colab\"/></a>"
      ]
    },
    {
      "cell_type": "markdown",
      "metadata": {
        "id": "ceAHKzEEDodm"
      },
      "source": [
        "# **The fifth in-class-exercise (40 points in total, 11/11/2021)**"
      ]
    },
    {
      "cell_type": "markdown",
      "metadata": {
        "id": "9SctB-zvDodp"
      },
      "source": [
        "(20 points) The purpose of the question is to practice different machine learning algorithms for text classification as well as the performance evaluation. In addition, you are requried to conduct *10 fold cross validation (https://scikit-learn.org/stable/modules/cross_validation.html)* in the training. \n",
        "\n",
        "The dataset can be download from here: https://github.com/unt-iialab/info5731_spring2021/blob/main/class_exercises/exercise09_datacollection.zip. The dataset contains two files train data and test data for sentiment analysis in IMDB review, it has two categories: 1 represents positive and 0 represents negative. You need to split the training data into training and validate data (80% for training and 20% for validation, https://towardsdatascience.com/train-test-split-and-cross-validation-in-python-80b61beca4b6) and perform 10 fold cross validation while training the classifier. The final trained model was final evaluated on the test data. \n",
        "\n",
        "Algorithms:\n",
        "\n",
        "(1) MultinominalNB\n",
        "\n",
        "(2) SVM \n",
        "\n",
        "(3) KNN \n",
        "\n",
        "(4) Decision tree\n",
        "\n",
        "(5) Random Forest\n",
        "\n",
        "(6) XGBoost\n",
        "\n",
        "Evaluation measurement:\n",
        "\n",
        "(1) Accuracy\n",
        "\n",
        "(2) Recall\n",
        "\n",
        "(3) Precison \n",
        "\n",
        "(4) F-1 score"
      ]
    },
    {
      "cell_type": "code",
      "metadata": {
        "colab": {
          "base_uri": "https://localhost:8080/"
        },
        "id": "-X2_iUlFDodq",
        "outputId": "8441cd77-515b-4d27-bd06-98c3505cb19d"
      },
      "source": [
        "import pandas as pd\n",
        "from xgboost import XGBClassifier\n",
        "from sklearn.svm import LinearSVC\n",
        "from sklearn.naive_bayes import MultinomialNB\n",
        "from sklearn.tree import DecisionTreeClassifier\n",
        "from sklearn.neighbors import KNeighborsClassifier\n",
        "from sklearn.ensemble import RandomForestClassifier\n",
        "from sklearn.metrics import accuracy_score, recall_score, precision_score, f1_score\n",
        "from sklearn.model_selection import train_test_split, cross_validate, StratifiedKFold\n",
        "\n",
        "Traindataframe = pd.read_csv(r'/content/stsa-train.txt',sep = 'delimiter=',header= None,names=['abstract'])\n",
        "Testdataframe = pd.read_csv(r'/content/stsa-test.txt',sep = 'delimiter=',header= None,names=['abstract'])\n",
        "\n",
        "Traindataframe[['Sentiment','abstract']] = Traindataframe[\"abstract\"].str.split(\" \", 1, expand=True)\n",
        "Testdataframe[['Sentiment','astract']] = Testdataframe[\"abstract\"].str.split(\" \", 1, expand=True)\n",
        "\n",
        "\n"
      ],
      "execution_count": null,
      "outputs": [
        {
          "output_type": "stream",
          "name": "stderr",
          "text": [
            "/usr/local/lib/python3.7/dist-packages/ipykernel_launcher.py:11: ParserWarning: Falling back to the 'python' engine because the 'c' engine does not support regex separators (separators > 1 char and different from '\\s+' are interpreted as regex); you can avoid this warning by specifying engine='python'.\n",
            "  # This is added back by InteractiveShellApp.init_path()\n",
            "/usr/local/lib/python3.7/dist-packages/ipykernel_launcher.py:12: ParserWarning: Falling back to the 'python' engine because the 'c' engine does not support regex separators (separators > 1 char and different from '\\s+' are interpreted as regex); you can avoid this warning by specifying engine='python'.\n",
            "  if sys.path[0] == '':\n"
          ]
        }
      ]
    },
    {
      "cell_type": "code",
      "metadata": {
        "colab": {
          "base_uri": "https://localhost:8080/"
        },
        "id": "AW7ZEMo3gnDK",
        "outputId": "6b71f5db-6a55-4a6a-89bb-33ab2eccc891"
      },
      "source": [
        "print(Traindataframe.head())"
      ],
      "execution_count": null,
      "outputs": [
        {
          "output_type": "stream",
          "name": "stdout",
          "text": [
            "                                            abstract Sentiment\n",
            "0  a stirring , funny and finally transporting re...         1\n",
            "1  apparently reassembled from the cutting-room f...         0\n",
            "2  they presume their audience wo n't sit still f...         0\n",
            "3  this is a visually stunning rumination on love...         1\n",
            "4  jonathan parker 's bartleby should have been t...         1\n"
          ]
        }
      ]
    },
    {
      "cell_type": "code",
      "metadata": {
        "colab": {
          "base_uri": "https://localhost:8080/"
        },
        "id": "1TBI6aiNgyTf",
        "outputId": "f5f66855-3002-4104-e720-ceb3f404fce6"
      },
      "source": [
        "print(Testdataframe.head())"
      ],
      "execution_count": null,
      "outputs": [
        {
          "output_type": "stream",
          "name": "stdout",
          "text": [
            "                                            abstract  ...                                            astract\n",
            "0   0 no movement , no yuks , not much of anything .  ...     no movement , no yuks , not much of anything .\n",
            "1  0 a gob of drivel so sickly sweet , even the e...  ...  a gob of drivel so sickly sweet , even the eag...\n",
            "2  0 gangs of new york is an unapologetic mess , ...  ...  gangs of new york is an unapologetic mess , wh...\n",
            "3  0 we never really feel involved with the story...  ...  we never really feel involved with the story ,...\n",
            "4          1 this is one of polanski 's best films .  ...            this is one of polanski 's best films .\n",
            "\n",
            "[5 rows x 3 columns]\n"
          ]
        }
      ]
    },
    {
      "cell_type": "code",
      "metadata": {
        "colab": {
          "base_uri": "https://localhost:8080/"
        },
        "id": "sDt0ffb_sgq-",
        "outputId": "711d9a4c-1236-40a4-e45f-3c508b695f70"
      },
      "source": [
        "import nltk\n",
        "import re\n",
        "import string\n",
        "nltk.download('stopwords')\n",
        "nltk.download('wordnet')\n",
        "sw = nltk.corpus.stopwords.words('english')\n",
        "from nltk.stem import WordNetLemmatizer\n",
        "WL= WordNetLemmatizer()\n",
        "\n",
        "def cleaneddata(T):\n",
        "  T =\"\".join([word.lower() for word in T if word not in string.punctuation])\n",
        "  T = re.sub(\"^\\d+\\s|\\s\\d+\\s|\\s\\d+$\", \" \", T)\n",
        "  phrases = re.split('\\W+',T)\n",
        "  T = [WL.lemmatize(word) for word in phrases if word not in sw]\n",
        "  return T"
      ],
      "execution_count": null,
      "outputs": [
        {
          "output_type": "stream",
          "name": "stdout",
          "text": [
            "[nltk_data] Downloading package stopwords to /root/nltk_data...\n",
            "[nltk_data]   Package stopwords is already up-to-date!\n",
            "[nltk_data] Downloading package wordnet to /root/nltk_data...\n",
            "[nltk_data]   Package wordnet is already up-to-date!\n"
          ]
        }
      ]
    },
    {
      "cell_type": "code",
      "metadata": {
        "colab": {
          "base_uri": "https://localhost:8080/"
        },
        "id": "GGqCLRNOuEVp",
        "outputId": "da6fbc2f-41df-4c0c-f243-a68041a19302"
      },
      "source": [
        "from sklearn.feature_extraction.text import TfidfVectorizer\n",
        "\n",
        "tf_idf = TfidfVectorizer(analyzer = cleaneddata)\n",
        "tfidf1 = tf_idf.fit_transform(Traindataframe['abstract'])\n",
        "tfidf1.shape"
      ],
      "execution_count": null,
      "outputs": [
        {
          "output_type": "execute_result",
          "data": {
            "text/plain": [
              "(6920, 13343)"
            ]
          },
          "metadata": {},
          "execution_count": 31
        }
      ]
    },
    {
      "cell_type": "code",
      "metadata": {
        "colab": {
          "base_uri": "https://localhost:8080/",
          "height": 247
        },
        "id": "HGbfu9JEvMNp",
        "outputId": "663688c2-bac2-47fd-ca5a-4f555f2b735a"
      },
      "source": [
        "tf_idataframe = pd.DataFrame(tfidf1.toarray())\n",
        "tf_idataframe.columns=tf_idf.get_feature_names()\n",
        "tf_idataframe.head()"
      ],
      "execution_count": null,
      "outputs": [
        {
          "output_type": "execute_result",
          "data": {
            "text/html": [
              "<div>\n",
              "<style scoped>\n",
              "    .dataframe tbody tr th:only-of-type {\n",
              "        vertical-align: middle;\n",
              "    }\n",
              "\n",
              "    .dataframe tbody tr th {\n",
              "        vertical-align: top;\n",
              "    }\n",
              "\n",
              "    .dataframe thead th {\n",
              "        text-align: right;\n",
              "    }\n",
              "</style>\n",
              "<table border=\"1\" class=\"dataframe\">\n",
              "  <thead>\n",
              "    <tr style=\"text-align: right;\">\n",
              "      <th></th>\n",
              "      <th></th>\n",
              "      <th>100minute</th>\n",
              "      <th>103minute</th>\n",
              "      <th>10course</th>\n",
              "      <th>10th</th>\n",
              "      <th>10thgrade</th>\n",
              "      <th>10year</th>\n",
              "      <th>10yearold</th>\n",
              "      <th>112minute</th>\n",
              "      <th>12</th>\n",
              "      <th>129minute</th>\n",
              "      <th>12th</th>\n",
              "      <th>12yearold</th>\n",
              "      <th>13th</th>\n",
              "      <th>14yearold</th>\n",
              "      <th>15th</th>\n",
              "      <th>15year</th>\n",
              "      <th>168minute</th>\n",
              "      <th>18yearold</th>\n",
              "      <th>1930s</th>\n",
              "      <th>1940s</th>\n",
              "      <th>1950s</th>\n",
              "      <th>1960s</th>\n",
              "      <th>1970s</th>\n",
              "      <th>1980s</th>\n",
              "      <th>19th</th>\n",
              "      <th>19thcentury</th>\n",
              "      <th>20car</th>\n",
              "      <th>20th</th>\n",
              "      <th>21st</th>\n",
              "      <th>22yearold</th>\n",
              "      <th>24andunders</th>\n",
              "      <th>26yearold</th>\n",
              "      <th>2day</th>\n",
              "      <th>30</th>\n",
              "      <th>34th</th>\n",
              "      <th>37minute</th>\n",
              "      <th>3d</th>\n",
              "      <th>3yearolds</th>\n",
              "      <th>40</th>\n",
              "      <th>...</th>\n",
              "      <th>yuen</th>\n",
              "      <th>yung</th>\n",
              "      <th>yvan</th>\n",
              "      <th>zaidan</th>\n",
              "      <th>zany</th>\n",
              "      <th>zap</th>\n",
              "      <th>zaza</th>\n",
              "      <th>zboys</th>\n",
              "      <th>zeal</th>\n",
              "      <th>zealand</th>\n",
              "      <th>zealously</th>\n",
              "      <th>zeitgeist</th>\n",
              "      <th>zelda</th>\n",
              "      <th>zellweger</th>\n",
              "      <th>zemeckis</th>\n",
              "      <th>zen</th>\n",
              "      <th>zero</th>\n",
              "      <th>zerodimensional</th>\n",
              "      <th>zeus</th>\n",
              "      <th>zhang</th>\n",
              "      <th>zhao</th>\n",
              "      <th>zhuangzhuang</th>\n",
              "      <th>zigzag</th>\n",
              "      <th>zing</th>\n",
              "      <th>zinger</th>\n",
              "      <th>zingerfilled</th>\n",
              "      <th>zip</th>\n",
              "      <th>zipper</th>\n",
              "      <th>zippy</th>\n",
              "      <th>zishe</th>\n",
              "      <th>ziyi</th>\n",
              "      <th>zoe</th>\n",
              "      <th>zombie</th>\n",
              "      <th>zombieland</th>\n",
              "      <th>zone</th>\n",
              "      <th>zoning</th>\n",
              "      <th>zoom</th>\n",
              "      <th>zwick</th>\n",
              "      <th>zzzzzzzzz</th>\n",
              "      <th>élan</th>\n",
              "    </tr>\n",
              "  </thead>\n",
              "  <tbody>\n",
              "    <tr>\n",
              "      <th>0</th>\n",
              "      <td>0.000000</td>\n",
              "      <td>0.0</td>\n",
              "      <td>0.0</td>\n",
              "      <td>0.0</td>\n",
              "      <td>0.0</td>\n",
              "      <td>0.0</td>\n",
              "      <td>0.0</td>\n",
              "      <td>0.0</td>\n",
              "      <td>0.0</td>\n",
              "      <td>0.0</td>\n",
              "      <td>0.0</td>\n",
              "      <td>0.0</td>\n",
              "      <td>0.0</td>\n",
              "      <td>0.0</td>\n",
              "      <td>0.0</td>\n",
              "      <td>0.0</td>\n",
              "      <td>0.0</td>\n",
              "      <td>0.0</td>\n",
              "      <td>0.0</td>\n",
              "      <td>0.400584</td>\n",
              "      <td>0.0</td>\n",
              "      <td>0.0</td>\n",
              "      <td>0.0</td>\n",
              "      <td>0.0</td>\n",
              "      <td>0.0</td>\n",
              "      <td>0.0</td>\n",
              "      <td>0.0</td>\n",
              "      <td>0.0</td>\n",
              "      <td>0.0</td>\n",
              "      <td>0.0</td>\n",
              "      <td>0.0</td>\n",
              "      <td>0.0</td>\n",
              "      <td>0.0</td>\n",
              "      <td>0.0</td>\n",
              "      <td>0.0</td>\n",
              "      <td>0.0</td>\n",
              "      <td>0.0</td>\n",
              "      <td>0.0</td>\n",
              "      <td>0.0</td>\n",
              "      <td>0.0</td>\n",
              "      <td>...</td>\n",
              "      <td>0.0</td>\n",
              "      <td>0.0</td>\n",
              "      <td>0.0</td>\n",
              "      <td>0.0</td>\n",
              "      <td>0.0</td>\n",
              "      <td>0.0</td>\n",
              "      <td>0.0</td>\n",
              "      <td>0.0</td>\n",
              "      <td>0.0</td>\n",
              "      <td>0.0</td>\n",
              "      <td>0.0</td>\n",
              "      <td>0.0</td>\n",
              "      <td>0.0</td>\n",
              "      <td>0.0</td>\n",
              "      <td>0.0</td>\n",
              "      <td>0.0</td>\n",
              "      <td>0.0</td>\n",
              "      <td>0.0</td>\n",
              "      <td>0.0</td>\n",
              "      <td>0.0</td>\n",
              "      <td>0.0</td>\n",
              "      <td>0.0</td>\n",
              "      <td>0.0</td>\n",
              "      <td>0.0</td>\n",
              "      <td>0.0</td>\n",
              "      <td>0.0</td>\n",
              "      <td>0.0</td>\n",
              "      <td>0.0</td>\n",
              "      <td>0.0</td>\n",
              "      <td>0.0</td>\n",
              "      <td>0.0</td>\n",
              "      <td>0.0</td>\n",
              "      <td>0.0</td>\n",
              "      <td>0.0</td>\n",
              "      <td>0.0</td>\n",
              "      <td>0.0</td>\n",
              "      <td>0.0</td>\n",
              "      <td>0.0</td>\n",
              "      <td>0.0</td>\n",
              "      <td>0.0</td>\n",
              "    </tr>\n",
              "    <tr>\n",
              "      <th>1</th>\n",
              "      <td>0.048154</td>\n",
              "      <td>0.0</td>\n",
              "      <td>0.0</td>\n",
              "      <td>0.0</td>\n",
              "      <td>0.0</td>\n",
              "      <td>0.0</td>\n",
              "      <td>0.0</td>\n",
              "      <td>0.0</td>\n",
              "      <td>0.0</td>\n",
              "      <td>0.0</td>\n",
              "      <td>0.0</td>\n",
              "      <td>0.0</td>\n",
              "      <td>0.0</td>\n",
              "      <td>0.0</td>\n",
              "      <td>0.0</td>\n",
              "      <td>0.0</td>\n",
              "      <td>0.0</td>\n",
              "      <td>0.0</td>\n",
              "      <td>0.0</td>\n",
              "      <td>0.000000</td>\n",
              "      <td>0.0</td>\n",
              "      <td>0.0</td>\n",
              "      <td>0.0</td>\n",
              "      <td>0.0</td>\n",
              "      <td>0.0</td>\n",
              "      <td>0.0</td>\n",
              "      <td>0.0</td>\n",
              "      <td>0.0</td>\n",
              "      <td>0.0</td>\n",
              "      <td>0.0</td>\n",
              "      <td>0.0</td>\n",
              "      <td>0.0</td>\n",
              "      <td>0.0</td>\n",
              "      <td>0.0</td>\n",
              "      <td>0.0</td>\n",
              "      <td>0.0</td>\n",
              "      <td>0.0</td>\n",
              "      <td>0.0</td>\n",
              "      <td>0.0</td>\n",
              "      <td>0.0</td>\n",
              "      <td>...</td>\n",
              "      <td>0.0</td>\n",
              "      <td>0.0</td>\n",
              "      <td>0.0</td>\n",
              "      <td>0.0</td>\n",
              "      <td>0.0</td>\n",
              "      <td>0.0</td>\n",
              "      <td>0.0</td>\n",
              "      <td>0.0</td>\n",
              "      <td>0.0</td>\n",
              "      <td>0.0</td>\n",
              "      <td>0.0</td>\n",
              "      <td>0.0</td>\n",
              "      <td>0.0</td>\n",
              "      <td>0.0</td>\n",
              "      <td>0.0</td>\n",
              "      <td>0.0</td>\n",
              "      <td>0.0</td>\n",
              "      <td>0.0</td>\n",
              "      <td>0.0</td>\n",
              "      <td>0.0</td>\n",
              "      <td>0.0</td>\n",
              "      <td>0.0</td>\n",
              "      <td>0.0</td>\n",
              "      <td>0.0</td>\n",
              "      <td>0.0</td>\n",
              "      <td>0.0</td>\n",
              "      <td>0.0</td>\n",
              "      <td>0.0</td>\n",
              "      <td>0.0</td>\n",
              "      <td>0.0</td>\n",
              "      <td>0.0</td>\n",
              "      <td>0.0</td>\n",
              "      <td>0.0</td>\n",
              "      <td>0.0</td>\n",
              "      <td>0.0</td>\n",
              "      <td>0.0</td>\n",
              "      <td>0.0</td>\n",
              "      <td>0.0</td>\n",
              "      <td>0.0</td>\n",
              "      <td>0.0</td>\n",
              "    </tr>\n",
              "    <tr>\n",
              "      <th>2</th>\n",
              "      <td>0.029784</td>\n",
              "      <td>0.0</td>\n",
              "      <td>0.0</td>\n",
              "      <td>0.0</td>\n",
              "      <td>0.0</td>\n",
              "      <td>0.0</td>\n",
              "      <td>0.0</td>\n",
              "      <td>0.0</td>\n",
              "      <td>0.0</td>\n",
              "      <td>0.0</td>\n",
              "      <td>0.0</td>\n",
              "      <td>0.0</td>\n",
              "      <td>0.0</td>\n",
              "      <td>0.0</td>\n",
              "      <td>0.0</td>\n",
              "      <td>0.0</td>\n",
              "      <td>0.0</td>\n",
              "      <td>0.0</td>\n",
              "      <td>0.0</td>\n",
              "      <td>0.000000</td>\n",
              "      <td>0.0</td>\n",
              "      <td>0.0</td>\n",
              "      <td>0.0</td>\n",
              "      <td>0.0</td>\n",
              "      <td>0.0</td>\n",
              "      <td>0.0</td>\n",
              "      <td>0.0</td>\n",
              "      <td>0.0</td>\n",
              "      <td>0.0</td>\n",
              "      <td>0.0</td>\n",
              "      <td>0.0</td>\n",
              "      <td>0.0</td>\n",
              "      <td>0.0</td>\n",
              "      <td>0.0</td>\n",
              "      <td>0.0</td>\n",
              "      <td>0.0</td>\n",
              "      <td>0.0</td>\n",
              "      <td>0.0</td>\n",
              "      <td>0.0</td>\n",
              "      <td>0.0</td>\n",
              "      <td>...</td>\n",
              "      <td>0.0</td>\n",
              "      <td>0.0</td>\n",
              "      <td>0.0</td>\n",
              "      <td>0.0</td>\n",
              "      <td>0.0</td>\n",
              "      <td>0.0</td>\n",
              "      <td>0.0</td>\n",
              "      <td>0.0</td>\n",
              "      <td>0.0</td>\n",
              "      <td>0.0</td>\n",
              "      <td>0.0</td>\n",
              "      <td>0.0</td>\n",
              "      <td>0.0</td>\n",
              "      <td>0.0</td>\n",
              "      <td>0.0</td>\n",
              "      <td>0.0</td>\n",
              "      <td>0.0</td>\n",
              "      <td>0.0</td>\n",
              "      <td>0.0</td>\n",
              "      <td>0.0</td>\n",
              "      <td>0.0</td>\n",
              "      <td>0.0</td>\n",
              "      <td>0.0</td>\n",
              "      <td>0.0</td>\n",
              "      <td>0.0</td>\n",
              "      <td>0.0</td>\n",
              "      <td>0.0</td>\n",
              "      <td>0.0</td>\n",
              "      <td>0.0</td>\n",
              "      <td>0.0</td>\n",
              "      <td>0.0</td>\n",
              "      <td>0.0</td>\n",
              "      <td>0.0</td>\n",
              "      <td>0.0</td>\n",
              "      <td>0.0</td>\n",
              "      <td>0.0</td>\n",
              "      <td>0.0</td>\n",
              "      <td>0.0</td>\n",
              "      <td>0.0</td>\n",
              "      <td>0.0</td>\n",
              "    </tr>\n",
              "    <tr>\n",
              "      <th>3</th>\n",
              "      <td>0.049596</td>\n",
              "      <td>0.0</td>\n",
              "      <td>0.0</td>\n",
              "      <td>0.0</td>\n",
              "      <td>0.0</td>\n",
              "      <td>0.0</td>\n",
              "      <td>0.0</td>\n",
              "      <td>0.0</td>\n",
              "      <td>0.0</td>\n",
              "      <td>0.0</td>\n",
              "      <td>0.0</td>\n",
              "      <td>0.0</td>\n",
              "      <td>0.0</td>\n",
              "      <td>0.0</td>\n",
              "      <td>0.0</td>\n",
              "      <td>0.0</td>\n",
              "      <td>0.0</td>\n",
              "      <td>0.0</td>\n",
              "      <td>0.0</td>\n",
              "      <td>0.000000</td>\n",
              "      <td>0.0</td>\n",
              "      <td>0.0</td>\n",
              "      <td>0.0</td>\n",
              "      <td>0.0</td>\n",
              "      <td>0.0</td>\n",
              "      <td>0.0</td>\n",
              "      <td>0.0</td>\n",
              "      <td>0.0</td>\n",
              "      <td>0.0</td>\n",
              "      <td>0.0</td>\n",
              "      <td>0.0</td>\n",
              "      <td>0.0</td>\n",
              "      <td>0.0</td>\n",
              "      <td>0.0</td>\n",
              "      <td>0.0</td>\n",
              "      <td>0.0</td>\n",
              "      <td>0.0</td>\n",
              "      <td>0.0</td>\n",
              "      <td>0.0</td>\n",
              "      <td>0.0</td>\n",
              "      <td>...</td>\n",
              "      <td>0.0</td>\n",
              "      <td>0.0</td>\n",
              "      <td>0.0</td>\n",
              "      <td>0.0</td>\n",
              "      <td>0.0</td>\n",
              "      <td>0.0</td>\n",
              "      <td>0.0</td>\n",
              "      <td>0.0</td>\n",
              "      <td>0.0</td>\n",
              "      <td>0.0</td>\n",
              "      <td>0.0</td>\n",
              "      <td>0.0</td>\n",
              "      <td>0.0</td>\n",
              "      <td>0.0</td>\n",
              "      <td>0.0</td>\n",
              "      <td>0.0</td>\n",
              "      <td>0.0</td>\n",
              "      <td>0.0</td>\n",
              "      <td>0.0</td>\n",
              "      <td>0.0</td>\n",
              "      <td>0.0</td>\n",
              "      <td>0.0</td>\n",
              "      <td>0.0</td>\n",
              "      <td>0.0</td>\n",
              "      <td>0.0</td>\n",
              "      <td>0.0</td>\n",
              "      <td>0.0</td>\n",
              "      <td>0.0</td>\n",
              "      <td>0.0</td>\n",
              "      <td>0.0</td>\n",
              "      <td>0.0</td>\n",
              "      <td>0.0</td>\n",
              "      <td>0.0</td>\n",
              "      <td>0.0</td>\n",
              "      <td>0.0</td>\n",
              "      <td>0.0</td>\n",
              "      <td>0.0</td>\n",
              "      <td>0.0</td>\n",
              "      <td>0.0</td>\n",
              "      <td>0.0</td>\n",
              "    </tr>\n",
              "    <tr>\n",
              "      <th>4</th>\n",
              "      <td>0.048782</td>\n",
              "      <td>0.0</td>\n",
              "      <td>0.0</td>\n",
              "      <td>0.0</td>\n",
              "      <td>0.0</td>\n",
              "      <td>0.0</td>\n",
              "      <td>0.0</td>\n",
              "      <td>0.0</td>\n",
              "      <td>0.0</td>\n",
              "      <td>0.0</td>\n",
              "      <td>0.0</td>\n",
              "      <td>0.0</td>\n",
              "      <td>0.0</td>\n",
              "      <td>0.0</td>\n",
              "      <td>0.0</td>\n",
              "      <td>0.0</td>\n",
              "      <td>0.0</td>\n",
              "      <td>0.0</td>\n",
              "      <td>0.0</td>\n",
              "      <td>0.000000</td>\n",
              "      <td>0.0</td>\n",
              "      <td>0.0</td>\n",
              "      <td>0.0</td>\n",
              "      <td>0.0</td>\n",
              "      <td>0.0</td>\n",
              "      <td>0.0</td>\n",
              "      <td>0.0</td>\n",
              "      <td>0.0</td>\n",
              "      <td>0.0</td>\n",
              "      <td>0.0</td>\n",
              "      <td>0.0</td>\n",
              "      <td>0.0</td>\n",
              "      <td>0.0</td>\n",
              "      <td>0.0</td>\n",
              "      <td>0.0</td>\n",
              "      <td>0.0</td>\n",
              "      <td>0.0</td>\n",
              "      <td>0.0</td>\n",
              "      <td>0.0</td>\n",
              "      <td>0.0</td>\n",
              "      <td>...</td>\n",
              "      <td>0.0</td>\n",
              "      <td>0.0</td>\n",
              "      <td>0.0</td>\n",
              "      <td>0.0</td>\n",
              "      <td>0.0</td>\n",
              "      <td>0.0</td>\n",
              "      <td>0.0</td>\n",
              "      <td>0.0</td>\n",
              "      <td>0.0</td>\n",
              "      <td>0.0</td>\n",
              "      <td>0.0</td>\n",
              "      <td>0.0</td>\n",
              "      <td>0.0</td>\n",
              "      <td>0.0</td>\n",
              "      <td>0.0</td>\n",
              "      <td>0.0</td>\n",
              "      <td>0.0</td>\n",
              "      <td>0.0</td>\n",
              "      <td>0.0</td>\n",
              "      <td>0.0</td>\n",
              "      <td>0.0</td>\n",
              "      <td>0.0</td>\n",
              "      <td>0.0</td>\n",
              "      <td>0.0</td>\n",
              "      <td>0.0</td>\n",
              "      <td>0.0</td>\n",
              "      <td>0.0</td>\n",
              "      <td>0.0</td>\n",
              "      <td>0.0</td>\n",
              "      <td>0.0</td>\n",
              "      <td>0.0</td>\n",
              "      <td>0.0</td>\n",
              "      <td>0.0</td>\n",
              "      <td>0.0</td>\n",
              "      <td>0.0</td>\n",
              "      <td>0.0</td>\n",
              "      <td>0.0</td>\n",
              "      <td>0.0</td>\n",
              "      <td>0.0</td>\n",
              "      <td>0.0</td>\n",
              "    </tr>\n",
              "  </tbody>\n",
              "</table>\n",
              "<p>5 rows × 13343 columns</p>\n",
              "</div>"
            ],
            "text/plain": [
              "             100minute  103minute  10course  ...  zoom  zwick  zzzzzzzzz  élan\n",
              "0  0.000000        0.0        0.0       0.0  ...   0.0    0.0        0.0   0.0\n",
              "1  0.048154        0.0        0.0       0.0  ...   0.0    0.0        0.0   0.0\n",
              "2  0.029784        0.0        0.0       0.0  ...   0.0    0.0        0.0   0.0\n",
              "3  0.049596        0.0        0.0       0.0  ...   0.0    0.0        0.0   0.0\n",
              "4  0.048782        0.0        0.0       0.0  ...   0.0    0.0        0.0   0.0\n",
              "\n",
              "[5 rows x 13343 columns]"
            ]
          },
          "metadata": {},
          "execution_count": 40
        }
      ]
    },
    {
      "cell_type": "code",
      "metadata": {
        "colab": {
          "base_uri": "https://localhost:8080/"
        },
        "id": "k2JLBW2SR6L4",
        "outputId": "7001ea4a-b8b2-437e-faa9-06b28ca29a1c"
      },
      "source": [
        "Test_tfidf = tf_idf.transform(Testdataframe['abstract'])\n",
        "print(Test_tfidf.shape)"
      ],
      "execution_count": null,
      "outputs": [
        {
          "output_type": "stream",
          "name": "stdout",
          "text": [
            "(1821, 13343)\n"
          ]
        }
      ]
    },
    {
      "cell_type": "code",
      "metadata": {
        "colab": {
          "base_uri": "https://localhost:8080/"
        },
        "id": "IxWlxWLjMzrZ",
        "outputId": "11ac6732-2a30-4e13-9c00-c3393288ddf2"
      },
      "source": [
        "DT1 = DT.fit(train1,train2)\n",
        "FDT = DT1.predict(test1)\n",
        "print('Acc_result %s' % accuracy_score(FDT,test2))\n",
        "print(classification_report(test2,FDT))\n"
      ],
      "execution_count": null,
      "outputs": [
        {
          "output_type": "stream",
          "name": "stdout",
          "text": [
            "Acc_result 0.6625722543352601\n",
            "              precision    recall  f1-score   support\n",
            "\n",
            "           0       0.66      0.63      0.64       671\n",
            "           1       0.66      0.70      0.68       713\n",
            "\n",
            "    accuracy                           0.66      1384\n",
            "   macro avg       0.66      0.66      0.66      1384\n",
            "weighted avg       0.66      0.66      0.66      1384\n",
            "\n"
          ]
        }
      ]
    },
    {
      "cell_type": "code",
      "metadata": {
        "id": "zXaPVVwWE_tc"
      },
      "source": [
        "MNB = MultinomialNB()\n",
        "SVM = LinearSVC()\n",
        "KNN = KNeighborsClassifier(n_neighbors=5,n_jobs=-1)\n",
        "DT = DecisionTreeClassifier()\n",
        "RF = RandomForestClassifier()\n",
        "XGB = XGBClassifier()"
      ],
      "execution_count": null,
      "outputs": []
    },
    {
      "cell_type": "code",
      "metadata": {
        "id": "JB-i2mTFwnoW"
      },
      "source": [
        "train1, test1, train2, test2 = train_test_split(tfidf1, Traindataframe['Sentiment'].values,\n",
        "                                                test_size=0.2, random_state=42)"
      ],
      "execution_count": null,
      "outputs": []
    },
    {
      "cell_type": "code",
      "metadata": {
        "id": "hqvKfZ9ZAc8e"
      },
      "source": [
        "MNB1 = MNB.fit(train1,train2)"
      ],
      "execution_count": null,
      "outputs": []
    },
    {
      "cell_type": "code",
      "metadata": {
        "colab": {
          "base_uri": "https://localhost:8080/"
        },
        "id": "HhOaNNYcFxtb",
        "outputId": "1493c56a-32c2-4cfe-8eb9-fa2788320330"
      },
      "source": [
        "from sklearn.metrics import accuracy_score\n",
        "from sklearn.metrics import classification_report\n",
        "FMNB = MNB1.predict(test1)\n",
        "print('Acc_result %s' % accuracy_score(FMNB,test2))\n",
        "print(classification_report(test2,FMNB))"
      ],
      "execution_count": null,
      "outputs": [
        {
          "output_type": "stream",
          "name": "stdout",
          "text": [
            "Acc_result 0.7955202312138728\n",
            "              precision    recall  f1-score   support\n",
            "\n",
            "           0       0.85      0.70      0.77       671\n",
            "           1       0.76      0.88      0.82       713\n",
            "\n",
            "    accuracy                           0.80      1384\n",
            "   macro avg       0.80      0.79      0.79      1384\n",
            "weighted avg       0.80      0.80      0.79      1384\n",
            "\n"
          ]
        }
      ]
    },
    {
      "cell_type": "code",
      "metadata": {
        "colab": {
          "base_uri": "https://localhost:8080/"
        },
        "id": "6u0EpMyKHTbS",
        "outputId": "97066683-f4a4-4679-e7ef-37d001cdb419"
      },
      "source": [
        "from sklearn.model_selection import cross_val_score\n",
        "result = cross_val_score(MNB, test1, test2, cv=10)\n",
        "print(\"MNB_given\",result.mean())"
      ],
      "execution_count": null,
      "outputs": [
        {
          "output_type": "stream",
          "name": "stdout",
          "text": [
            "MNB_given 0.7247054530288813\n"
          ]
        }
      ]
    },
    {
      "cell_type": "code",
      "metadata": {
        "colab": {
          "base_uri": "https://localhost:8080/"
        },
        "id": "m2GbhFBzI72f",
        "outputId": "c461f3d7-9eb5-4576-dea9-8d5eb9f2d527"
      },
      "source": [
        "SVM1 = SVM.fit(train1,train2)\n",
        "FSVM = SVM1.predict(test1)\n",
        "print('Acc_result %s' % accuracy_score(FSVM,test2))\n",
        "print(classification_report(test2,ESVM))"
      ],
      "execution_count": null,
      "outputs": [
        {
          "output_type": "stream",
          "name": "stdout",
          "text": [
            "Acc_result 0.791907514450867\n",
            "              precision    recall  f1-score   support\n",
            "\n",
            "           0       0.81      0.75      0.78       671\n",
            "           1       0.78      0.83      0.80       713\n",
            "\n",
            "    accuracy                           0.79      1384\n",
            "   macro avg       0.79      0.79      0.79      1384\n",
            "weighted avg       0.79      0.79      0.79      1384\n",
            "\n"
          ]
        }
      ]
    },
    {
      "cell_type": "code",
      "metadata": {
        "colab": {
          "base_uri": "https://localhost:8080/"
        },
        "id": "sao44mRIKhA_",
        "outputId": "24e021d4-532f-4f24-93da-aa84c9da5322"
      },
      "source": [
        "from sklearn.model_selection import cross_val_score\n",
        "result = cross_val_score(SVM, test1, test2, cv=10)\n",
        "print(\"SVM_given\",result.mean())"
      ],
      "execution_count": null,
      "outputs": [
        {
          "output_type": "stream",
          "name": "stdout",
          "text": [
            "SVM_given 0.7348034615785632\n"
          ]
        }
      ]
    },
    {
      "cell_type": "code",
      "metadata": {
        "colab": {
          "base_uri": "https://localhost:8080/"
        },
        "id": "e2rOOc4MLEPj",
        "outputId": "6cdab810-8d29-4877-cce1-85bdd7e4be63"
      },
      "source": [
        "KNN1 = KNN.fit(train1,train2)\n",
        "FKNN = KNN1.predict(test1)\n",
        "print('Acc_result %s' % accuracy_score(FKNN,test2))\n",
        "print(classification_report(test2,FKNN))"
      ],
      "execution_count": null,
      "outputs": [
        {
          "output_type": "stream",
          "name": "stdout",
          "text": [
            "Acc_result 0.740606936416185\n",
            "              precision    recall  f1-score   support\n",
            "\n",
            "           0       0.75      0.71      0.73       671\n",
            "           1       0.74      0.77      0.75       713\n",
            "\n",
            "    accuracy                           0.74      1384\n",
            "   macro avg       0.74      0.74      0.74      1384\n",
            "weighted avg       0.74      0.74      0.74      1384\n",
            "\n"
          ]
        }
      ]
    },
    {
      "cell_type": "code",
      "metadata": {
        "colab": {
          "base_uri": "https://localhost:8080/"
        },
        "id": "8Be3akG6MXfe",
        "outputId": "42cbcf8b-e312-40d3-d13f-f9f2efe6bd52"
      },
      "source": [
        "from sklearn.model_selection import cross_val_score\n",
        "result = cross_val_score(KNN, test1, test2, cv=10)\n",
        "print(\"KNN_given\",result.mean())"
      ],
      "execution_count": null,
      "outputs": [
        {
          "output_type": "stream",
          "name": "stdout",
          "text": [
            "KNN_given 0.6675737670732979\n"
          ]
        }
      ]
    },
    {
      "cell_type": "code",
      "metadata": {
        "colab": {
          "base_uri": "https://localhost:8080/"
        },
        "id": "JKh2e6LyOP4r",
        "outputId": "7d50759b-e2c2-47f9-fa3d-11c7ec826d01"
      },
      "source": [
        "XGB1 = XGB.fit(train1,train2)\n",
        "FXGB = XGB1.predict(test1)\n",
        "result = cross_val_score(XGB, test1, test2, cv=10)\n",
        "print('Acc_result %s' % accuracy_score(FXGB,test2))\n",
        "print(classification_report(test2,FXGB))\n",
        "print(\"XGB_given\",result.mean())"
      ],
      "execution_count": null,
      "outputs": [
        {
          "output_type": "stream",
          "name": "stdout",
          "text": [
            "Acc_result 0.6488439306358381\n",
            "              precision    recall  f1-score   support\n",
            "\n",
            "           0       0.76      0.41      0.53       671\n",
            "           1       0.61      0.88      0.72       713\n",
            "\n",
            "    accuracy                           0.65      1384\n",
            "   macro avg       0.68      0.64      0.62      1384\n",
            "weighted avg       0.68      0.65      0.63      1384\n",
            "\n",
            "XGB_given 0.6198884370764259\n"
          ]
        }
      ]
    },
    {
      "cell_type": "code",
      "metadata": {
        "colab": {
          "base_uri": "https://localhost:8080/"
        },
        "id": "Zpl0_YceNW-B",
        "outputId": "465603fc-ed69-4541-a417-00cd07fb64f2"
      },
      "source": [
        "result = cross_val_score(DT, test1, test2, cv=10)\n",
        "print(\"DT_given\",result.mean())"
      ],
      "execution_count": null,
      "outputs": [
        {
          "output_type": "stream",
          "name": "stdout",
          "text": [
            "DT_given 0.6141174017307892\n"
          ]
        }
      ]
    },
    {
      "cell_type": "code",
      "metadata": {
        "colab": {
          "base_uri": "https://localhost:8080/"
        },
        "id": "5qGUD8EHNoqK",
        "outputId": "ae0a724b-5de3-4d92-cddb-95f6b5efcf82"
      },
      "source": [
        "RF1 = RF.fit(train1,train2)\n",
        "FRF = RF1.predict(test1)\n",
        "result = cross_val_score(RF, test1, test2, cv=10)\n",
        "print('Acc_result %s' % accuracy_score(FRF,test2))\n",
        "print(classification_report(test2,FRF))\n",
        "print(\"RF_given\",result.mean())"
      ],
      "execution_count": null,
      "outputs": [
        {
          "output_type": "stream",
          "name": "stdout",
          "text": [
            "Acc_result 0.7434971098265896\n",
            "              precision    recall  f1-score   support\n",
            "\n",
            "           0       0.77      0.68      0.72       671\n",
            "           1       0.73      0.80      0.76       713\n",
            "\n",
            "    accuracy                           0.74      1384\n",
            "   macro avg       0.75      0.74      0.74      1384\n",
            "weighted avg       0.75      0.74      0.74      1384\n",
            "\n",
            "RF_given 0.6827494526118236\n"
          ]
        }
      ]
    },
    {
      "cell_type": "code",
      "metadata": {
        "colab": {
          "base_uri": "https://localhost:8080/"
        },
        "id": "gj4YmMGlQPXi",
        "outputId": "4d8d0e18-5e3a-4a01-e09c-99b95cb54c1d"
      },
      "source": [
        "Test_MNB = MNB1.predict(Test_tfidf)\n",
        "print('Acc_result %s' % accuracy_score(Test_MNB,Testdataframe['Sentiment']))\n",
        "print(classification_report(Test_MNB,Testdataframe['Sentiment']))\n"
      ],
      "execution_count": null,
      "outputs": [
        {
          "output_type": "stream",
          "name": "stdout",
          "text": [
            "Acc_result 0.7940691927512356\n",
            "              precision    recall  f1-score   support\n",
            "\n",
            "           0       0.69      0.87      0.77       729\n",
            "           1       0.89      0.74      0.81      1092\n",
            "\n",
            "    accuracy                           0.79      1821\n",
            "   macro avg       0.79      0.81      0.79      1821\n",
            "weighted avg       0.81      0.79      0.80      1821\n",
            "\n"
          ]
        }
      ]
    },
    {
      "cell_type": "code",
      "metadata": {
        "colab": {
          "base_uri": "https://localhost:8080/"
        },
        "id": "kBquxyzXTJAV",
        "outputId": "30fe7559-a401-4215-e1ee-eaf0f2a373b4"
      },
      "source": [
        "Test_SVM = SVM1.predict(Test_tfidf)\n",
        "print('Acc_result %s' % accuracy_score(Test_SVM,Testdataframe['Sentiment']))\n",
        "print(classification_report(Test_SVM,Testdataframe['Sentiment']))"
      ],
      "execution_count": null,
      "outputs": [
        {
          "output_type": "stream",
          "name": "stdout",
          "text": [
            "Acc_result 0.7869302580999451\n",
            "              precision    recall  f1-score   support\n",
            "\n",
            "           0       0.75      0.81      0.78       838\n",
            "           1       0.83      0.77      0.79       983\n",
            "\n",
            "    accuracy                           0.79      1821\n",
            "   macro avg       0.79      0.79      0.79      1821\n",
            "weighted avg       0.79      0.79      0.79      1821\n",
            "\n"
          ]
        }
      ]
    },
    {
      "cell_type": "markdown",
      "metadata": {
        "id": "PyXeRyWwDodr"
      },
      "source": [
        "(20 points) The purpose of the question is to practice different machine learning algorithms for text clustering\n",
        "Please downlad the dataset by using the following link.  https://www.kaggle.com/PromptCloudHQ/amazon-reviews-unlocked-mobile-phones\n",
        "(You can also use different text data which you want)\n",
        "\n",
        "Apply the listed clustering methods to the dataset:\n",
        "\n",
        "K means, \n",
        "DBSCAN,\n",
        "Hierarchical clustering. \n",
        "\n",
        "You can refer to of the codes from  the follwing link below. \n",
        "https://www.kaggle.com/karthik3890/text-clustering "
      ]
    },
    {
      "cell_type": "code",
      "metadata": {
        "id": "CV6ZYHHXDodr",
        "colab": {
          "base_uri": "https://localhost:8080/"
        },
        "outputId": "bf10908b-3164-4f53-a0ba-0564ac5cd091"
      },
      "source": [
        "import pandas as pd\n",
        "import gensim\n",
        "Df=pd.read_csv(\"/content/Amazon_Unlocked_Mobile.csv\")\n",
        "import nltk\n",
        "nltk.download('punkt')\n",
        "from nltk.corpus import stopwords\n",
        "nltk.download('stopwords')\n",
        "from textblob import Word\n",
        "nltk.download('wordnet')\n",
        "from nltk.stem import PorterStemmer\n",
        "st = PorterStemmer()\n",
        "Df = Df[Df['Reviews'].notnull()]\n",
        "df = Df\n",
        "stop = stopwords.words('english')\n",
        "Df['puncless'] = Df['Reviews'].str.replace('[^\\w\\s].#','')\n",
        "Df['mstopwords'] =Df['puncless'].apply(lambda i: \" \".join(i for i in i.split() if i not in stop))\n",
        "Df['numbers']=Df['mstopwords'].str.replace('[0-9]','')\n",
        "Df['lowest'] =Df['numbers'].apply(lambda i: \" \".join(i.lower() for i in i.split()))\n",
        "\n",
        "Df['stemming']=Df['lowest'].apply(lambda i: \" \".join([st.stem(word) for word in i.split()]))\n",
        "Df['freshdata'] = Df['stemming'].apply(lambda i: \" \".join([Word(word).lemmatize() for word in i.split()]))\n",
        "\n",
        "\n"
      ],
      "execution_count": 5,
      "outputs": [
        {
          "output_type": "stream",
          "name": "stdout",
          "text": [
            "[nltk_data] Downloading package punkt to /root/nltk_data...\n",
            "[nltk_data]   Unzipping tokenizers/punkt.zip.\n",
            "[nltk_data] Downloading package stopwords to /root/nltk_data...\n",
            "[nltk_data]   Unzipping corpora/stopwords.zip.\n",
            "[nltk_data] Downloading package wordnet to /root/nltk_data...\n",
            "[nltk_data]   Unzipping corpora/wordnet.zip.\n"
          ]
        }
      ]
    },
    {
      "cell_type": "code",
      "metadata": {
        "colab": {
          "base_uri": "https://localhost:8080/"
        },
        "id": "zyKhaLHWkwGW",
        "outputId": "d8e2de12-599c-46ce-ac6e-f450703141dd"
      },
      "source": [
        "print(Df['freshdata'].head())"
      ],
      "execution_count": 6,
      "outputs": [
        {
          "output_type": "stream",
          "name": "stdout",
          "text": [
            "0    i feel lucki found use (phone u & use hard all...\n",
            "1    nice phone, nice grade pantach revue. veri cle...\n",
            "2                                            veri plea\n",
            "3      it work good goe slow sometim good phone i love\n",
            "4    great phone replac lost phone. the thing volum...\n",
            "Name: freshdata, dtype: object\n"
          ]
        }
      ]
    },
    {
      "cell_type": "code",
      "metadata": {
        "id": "ZPEcnO3vk87Q"
      },
      "source": [
        "Df1=(df.sample(n=4000)).reset_index()"
      ],
      "execution_count": 7,
      "outputs": []
    },
    {
      "cell_type": "code",
      "metadata": {
        "colab": {
          "base_uri": "https://localhost:8080/"
        },
        "id": "WOKsw4HfpMwJ",
        "outputId": "b19b9eb4-5095-4334-a650-168f128fe07c"
      },
      "source": [
        "from sklearn.feature_extraction.text import TfidfVectorizer\n",
        "tf_idf = TfidfVectorizer()\n",
        "tfidf_result = tf_idf.fit_transform(Df1['freshdata'].values)\n",
        "print(tfidf_result.shape)"
      ],
      "execution_count": 14,
      "outputs": [
        {
          "output_type": "stream",
          "name": "stdout",
          "text": [
            "(4000, 4811)\n"
          ]
        }
      ]
    },
    {
      "cell_type": "code",
      "metadata": {
        "colab": {
          "base_uri": "https://localhost:8080/"
        },
        "id": "yKomqi_Aqa4X",
        "outputId": "6e6f3d89-39b5-4fd1-fe4f-61913e12da14"
      },
      "source": [
        "from sklearn.cluster import KMeans\n",
        "Mtf_idf = KMeans(n_clusters = 5, n_jobs = -1,random_state=99)\n",
        "Mtf_idf.fit(tfidf_result)"
      ],
      "execution_count": 17,
      "outputs": [
        {
          "output_type": "execute_result",
          "data": {
            "text/plain": [
              "KMeans(algorithm='auto', copy_x=True, init='k-means++', max_iter=300,\n",
              "       n_clusters=5, n_init=10, n_jobs=-1, precompute_distances='auto',\n",
              "       random_state=99, tol=0.0001, verbose=0)"
            ]
          },
          "metadata": {},
          "execution_count": 17
        }
      ]
    },
    {
      "cell_type": "code",
      "metadata": {
        "id": "inVn7wp-8Xp4"
      },
      "source": [
        "tfidf_labelling = Mtf_idf.labels_\n",
        "tfidf_clustering=Mtf_idf.cluster_centers_"
      ],
      "execution_count": 20,
      "outputs": []
    },
    {
      "cell_type": "code",
      "metadata": {
        "colab": {
          "base_uri": "https://localhost:8080/",
          "height": 341
        },
        "id": "PPww2zGq86h9",
        "outputId": "921407da-f88f-4c65-f593-adbef75a0666"
      },
      "source": [
        "variables = tf_idf.get_feature_names()\n",
        "variables[1:5]\n",
        "Df1['tf_idf cluster labelling'] = tfidf_labelling\n",
        "Df1.head(5)"
      ],
      "execution_count": 23,
      "outputs": [
        {
          "output_type": "execute_result",
          "data": {
            "text/html": [
              "<div>\n",
              "<style scoped>\n",
              "    .dataframe tbody tr th:only-of-type {\n",
              "        vertical-align: middle;\n",
              "    }\n",
              "\n",
              "    .dataframe tbody tr th {\n",
              "        vertical-align: top;\n",
              "    }\n",
              "\n",
              "    .dataframe thead th {\n",
              "        text-align: right;\n",
              "    }\n",
              "</style>\n",
              "<table border=\"1\" class=\"dataframe\">\n",
              "  <thead>\n",
              "    <tr style=\"text-align: right;\">\n",
              "      <th></th>\n",
              "      <th>index</th>\n",
              "      <th>Product Name</th>\n",
              "      <th>Brand Name</th>\n",
              "      <th>Price</th>\n",
              "      <th>Rating</th>\n",
              "      <th>Reviews</th>\n",
              "      <th>Review Votes</th>\n",
              "      <th>puncless</th>\n",
              "      <th>mstopwords</th>\n",
              "      <th>numbers</th>\n",
              "      <th>lowest</th>\n",
              "      <th>stemming</th>\n",
              "      <th>freshdata</th>\n",
              "      <th>tf_idf cluster labelling</th>\n",
              "    </tr>\n",
              "  </thead>\n",
              "  <tbody>\n",
              "    <tr>\n",
              "      <th>0</th>\n",
              "      <td>27982</td>\n",
              "      <td>Apple iPhone 5c 32GB - Unlocked - (Green)</td>\n",
              "      <td>Apple</td>\n",
              "      <td>224.77</td>\n",
              "      <td>3.0</td>\n",
              "      <td>the phone is unlocked thats good, but not is o...</td>\n",
              "      <td>1.0</td>\n",
              "      <td>the phone is unlocked thats good, but not is o...</td>\n",
              "      <td>phone unlocked thats good, 8GB 5GB</td>\n",
              "      <td>phone unlocked thats good, GB GB</td>\n",
              "      <td>phone unlocked thats good, gb gb</td>\n",
              "      <td>phone unlock that good, gb gb</td>\n",
              "      <td>phone unlock that good, gb gb</td>\n",
              "      <td>0</td>\n",
              "    </tr>\n",
              "    <tr>\n",
              "      <th>1</th>\n",
              "      <td>10370</td>\n",
              "      <td>Apple iPhone 4 A1332 32GB Black (GSM Unlocked)</td>\n",
              "      <td>Apple</td>\n",
              "      <td>75.00</td>\n",
              "      <td>5.0</td>\n",
              "      <td>The phone works perfect. My son loved it!!! th...</td>\n",
              "      <td>1.0</td>\n",
              "      <td>The phone works perfect. My son loved it!!! th...</td>\n",
              "      <td>The phone works perfect. My son loved it!!! sh...</td>\n",
              "      <td>The phone works perfect. My son loved it!!! sh...</td>\n",
              "      <td>the phone works perfect. my son loved it!!! sh...</td>\n",
              "      <td>the phone work perfect. my son love it!!! ship...</td>\n",
              "      <td>the phone work perfect. my son love it!!! ship...</td>\n",
              "      <td>1</td>\n",
              "    </tr>\n",
              "    <tr>\n",
              "      <th>2</th>\n",
              "      <td>47297</td>\n",
              "      <td>Apple iPhone 5s 64GB (Gold) -T-Mobile</td>\n",
              "      <td>Apple</td>\n",
              "      <td>265.00</td>\n",
              "      <td>5.0</td>\n",
              "      <td>The iphone is unlock Good phone but bad ime att</td>\n",
              "      <td>0.0</td>\n",
              "      <td>The iphone is unlock Good phone but bad ime att</td>\n",
              "      <td>The iphone unlock Good phone bad ime att</td>\n",
              "      <td>The iphone unlock Good phone bad ime att</td>\n",
              "      <td>the iphone unlock good phone bad ime att</td>\n",
              "      <td>the iphon unlock good phone bad ime att</td>\n",
              "      <td>the iphon unlock good phone bad ime att</td>\n",
              "      <td>0</td>\n",
              "    </tr>\n",
              "    <tr>\n",
              "      <th>3</th>\n",
              "      <td>70917</td>\n",
              "      <td>Apple iPhone 6S Plus Unlocked Smartphone, 32 G...</td>\n",
              "      <td>Apple</td>\n",
              "      <td>749.99</td>\n",
              "      <td>5.0</td>\n",
              "      <td>Good</td>\n",
              "      <td>0.0</td>\n",
              "      <td>Good</td>\n",
              "      <td>Good</td>\n",
              "      <td>Good</td>\n",
              "      <td>good</td>\n",
              "      <td>good</td>\n",
              "      <td>good</td>\n",
              "      <td>4</td>\n",
              "    </tr>\n",
              "    <tr>\n",
              "      <th>4</th>\n",
              "      <td>60766</td>\n",
              "      <td>Apple iPhone 6 Plus Unlocked Cellphone, 16GB, ...</td>\n",
              "      <td>NaN</td>\n",
              "      <td>490.00</td>\n",
              "      <td>5.0</td>\n",
              "      <td>100% Great seller. No problems what so ever an...</td>\n",
              "      <td>0.0</td>\n",
              "      <td>100% Great seller. No problems what so ever an...</td>\n",
              "      <td>100% Great seller. No problems ever im pleased</td>\n",
              "      <td>% Great seller. No problems ever im pleased</td>\n",
              "      <td>% great seller. no problems ever im pleased</td>\n",
              "      <td>% great seller. no problem ever im pleas</td>\n",
              "      <td>% great seller. no problem ever im plea</td>\n",
              "      <td>0</td>\n",
              "    </tr>\n",
              "  </tbody>\n",
              "</table>\n",
              "</div>"
            ],
            "text/plain": [
              "   index  ... tf_idf cluster labelling\n",
              "0  27982  ...                        0\n",
              "1  10370  ...                        1\n",
              "2  47297  ...                        0\n",
              "3  70917  ...                        4\n",
              "4  60766  ...                        0\n",
              "\n",
              "[5 rows x 14 columns]"
            ]
          },
          "metadata": {},
          "execution_count": 23
        }
      ]
    },
    {
      "cell_type": "code",
      "metadata": {
        "colab": {
          "base_uri": "https://localhost:8080/"
        },
        "id": "WiuKFA5QAC1k",
        "outputId": "b6cf6199-d475-4557-8e6e-46f736510c16"
      },
      "source": [
        "Df1.groupby(['tf_idf cluster labelling'])['freshdata'].count()"
      ],
      "execution_count": 24,
      "outputs": [
        {
          "output_type": "execute_result",
          "data": {
            "text/plain": [
              "tf_idf cluster labelling\n",
              "0    3179\n",
              "1     231\n",
              "2     280\n",
              "3     108\n",
              "4     202\n",
              "Name: freshdata, dtype: int64"
            ]
          },
          "metadata": {},
          "execution_count": 24
        }
      ]
    },
    {
      "cell_type": "code",
      "metadata": {
        "colab": {
          "base_uri": "https://localhost:8080/"
        },
        "id": "rZk4arrFCehM",
        "outputId": "f83a4ee0-719f-49c7-8aac-7934c3932565"
      },
      "source": [
        "centers = Mtf_idf.cluster_centers_.argsort()[:, ::-1]\n",
        "for a in range(1,5):\n",
        "    print(\"Cluster %d:\" % a, end='')\n",
        "    for ind in centers[a, :7]:\n",
        "        print(' %s' % variables[ind], end='')\n",
        "        print()"
      ],
      "execution_count": 33,
      "outputs": [
        {
          "output_type": "stream",
          "name": "stdout",
          "text": [
            "Cluster 1: love\n",
            " it\n",
            " phone\n",
            " great\n",
            " daughter\n",
            " iphon\n",
            " thank\n",
            "Cluster 2: great\n",
            " work\n",
            " phone\n",
            " product\n",
            " price\n",
            " it\n",
            " condition\n",
            "Cluster 3: excel\n",
            " product\n",
            " condit\n",
            " phone\n",
            " condition\n",
            " good\n",
            " thank\n",
            "Cluster 4: good\n",
            " veri\n",
            " it\n",
            " phone\n",
            " work\n",
            " product\n",
            " thank\n"
          ]
        }
      ]
    },
    {
      "cell_type": "code",
      "metadata": {
        "colab": {
          "base_uri": "https://localhost:8080/"
        },
        "id": "dHMvcjT3EOJo",
        "outputId": "bba04510-9d1f-446c-b523-f27dfd618bd8"
      },
      "source": [
        "from sklearn.cluster import DBSCAN\n",
        "import numpy as np\n",
        "import matplotlib.pyplot as plt\n",
        "import gensim\n",
        "a=0\n",
        "list=[]\n",
        "for b in Df1['freshdata'].values:\n",
        "    list.append(b.split())\n",
        "wmword = gensim.models.Word2Vec(list,size=100, workers=4)\n",
        "import numpy as np\n",
        "vectors = [];\n",
        "for b in list:\n",
        "    vector1 = np.zeros(100)\n",
        "    count = 0;\n",
        "    for w in b:\n",
        "        try:\n",
        "            vector2 = wmword.wv[w]\n",
        "            vector1 += vector2\n",
        "            count += 1\n",
        "        except:\n",
        "            pass\n",
        "    vector1 /= count\n",
        "    vectors.append(vector1)\n",
        "vectors = np.array(vectors)\n",
        "vectors = np.nan_to_num(vectors)\n",
        "vectors.shape"
      ],
      "execution_count": 48,
      "outputs": [
        {
          "output_type": "stream",
          "name": "stderr",
          "text": [
            "/usr/local/lib/python3.7/dist-packages/ipykernel_launcher.py:22: RuntimeWarning: invalid value encountered in true_divide\n"
          ]
        },
        {
          "output_type": "execute_result",
          "data": {
            "text/plain": [
              "(4000, 100)"
            ]
          },
          "metadata": {},
          "execution_count": 48
        }
      ]
    },
    {
      "cell_type": "markdown",
      "metadata": {
        "id": "Q2AR-I7AIXpo"
      },
      "source": [
        "Reference - Lower_Bound,Upper_Bound: https://gist.github.com/m00nlight/0f9306b4d4e61ba0195f\n",
        "\n"
      ]
    },
    {
      "cell_type": "code",
      "metadata": {
        "id": "mhggFwkJQxds"
      },
      "source": [
        "points = 2 * 100\n",
        "def lower_bound(num, reach): \n",
        "    l, u = 0, len(num) - 1\n",
        "    while l <= u: \n",
        "        c = int(l + (u - l) / 2)\n",
        "        if num[c] >= reach:\n",
        "            u = c - 1\n",
        "        else:\n",
        "            l = c + 1\n",
        "    return l\n",
        "\n",
        "def computing (i, text): \n",
        "    distances = []\n",
        "    for v in text:\n",
        "        distance = np.sum((i - v) **2 ) \n",
        "        if(len(distances) == 200 and distances[199] > distance): \n",
        "            l = int(lower_bound(distances, distance))\n",
        "            if l < 200 and l >= 0 and distances[l] > distance:\n",
        "                distances[l] = distance\n",
        "        else:\n",
        "            distances.append(distance)\n",
        "            distances.sort()\n",
        "    \n",
        "    return distances[199]"
      ],
      "execution_count": 52,
      "outputs": []
    },
    {
      "cell_type": "code",
      "metadata": {
        "id": "WvpeHNPJS-iY"
      },
      "source": [
        "neighbour = []\n",
        "for v in vectors[:500]:\n",
        "    neighbour.append(computing(v, vectors[:500]) )\n",
        "neighbour.sort()"
      ],
      "execution_count": 60,
      "outputs": []
    },
    {
      "cell_type": "code",
      "metadata": {
        "colab": {
          "base_uri": "https://localhost:8080/",
          "height": 241
        },
        "id": "S2JEUkNIUIu7",
        "outputId": "6105af30-ec92-43b5-88c0-e01230080fcc"
      },
      "source": [
        "plt.figure(figsize=(10,3))\n",
        "plt.title(\"Method\")\n",
        "plt.plot([i for i in range(len(neighbour))], neighbour)\n",
        "plt.xlabel(\"all the points\")\n",
        "plt.ylabel(\"Distance of neighbour\")\n",
        "plt.show()"
      ],
      "execution_count": 67,
      "outputs": [
        {
          "output_type": "display_data",
          "data": {
            "image/png": "[encoded data removed]",
            "text/plain": [
              "<Figure size 720x216 with 1 Axes>"
            ]
          },
          "metadata": {
            "needs_background": "light"
          }
        }
      ]
    },
    {
      "cell_type": "code",
      "metadata": {
        "colab": {
          "base_uri": "https://localhost:8080/",
          "height": 310
        },
        "id": "Z1AGG0IcWyYD",
        "outputId": "1b9c3468-58d1-4b0d-d4ae-1468b8b897fe"
      },
      "source": [
        "design = DBSCAN(eps = 8, min_samples = points, n_jobs=-2)\n",
        "design.fit(vectors)\n",
        "Df1['WMword design'] = design.labels_\n",
        "Df1.head(4)"
      ],
      "execution_count": 78,
      "outputs": [
        {
          "output_type": "execute_result",
          "data": {
            "text/html": [
              "<div>\n",
              "<style scoped>\n",
              "    .dataframe tbody tr th:only-of-type {\n",
              "        vertical-align: middle;\n",
              "    }\n",
              "\n",
              "    .dataframe tbody tr th {\n",
              "        vertical-align: top;\n",
              "    }\n",
              "\n",
              "    .dataframe thead th {\n",
              "        text-align: right;\n",
              "    }\n",
              "</style>\n",
              "<table border=\"1\" class=\"dataframe\">\n",
              "  <thead>\n",
              "    <tr style=\"text-align: right;\">\n",
              "      <th></th>\n",
              "      <th>index</th>\n",
              "      <th>Product Name</th>\n",
              "      <th>Brand Name</th>\n",
              "      <th>Price</th>\n",
              "      <th>Rating</th>\n",
              "      <th>Reviews</th>\n",
              "      <th>Review Votes</th>\n",
              "      <th>puncless</th>\n",
              "      <th>mstopwords</th>\n",
              "      <th>numbers</th>\n",
              "      <th>lowest</th>\n",
              "      <th>stemming</th>\n",
              "      <th>freshdata</th>\n",
              "      <th>tf_idf cluster labelling</th>\n",
              "      <th>WMword design</th>\n",
              "    </tr>\n",
              "  </thead>\n",
              "  <tbody>\n",
              "    <tr>\n",
              "      <th>0</th>\n",
              "      <td>27982</td>\n",
              "      <td>Apple iPhone 5c 32GB - Unlocked - (Green)</td>\n",
              "      <td>Apple</td>\n",
              "      <td>224.77</td>\n",
              "      <td>3.0</td>\n",
              "      <td>the phone is unlocked thats good, but not is o...</td>\n",
              "      <td>1.0</td>\n",
              "      <td>the phone is unlocked thats good, but not is o...</td>\n",
              "      <td>phone unlocked thats good, 8GB 5GB</td>\n",
              "      <td>phone unlocked thats good, GB GB</td>\n",
              "      <td>phone unlocked thats good, gb gb</td>\n",
              "      <td>phone unlock that good, gb gb</td>\n",
              "      <td>phone unlock that good, gb gb</td>\n",
              "      <td>0</td>\n",
              "      <td>0</td>\n",
              "    </tr>\n",
              "    <tr>\n",
              "      <th>1</th>\n",
              "      <td>10370</td>\n",
              "      <td>Apple iPhone 4 A1332 32GB Black (GSM Unlocked)</td>\n",
              "      <td>Apple</td>\n",
              "      <td>75.00</td>\n",
              "      <td>5.0</td>\n",
              "      <td>The phone works perfect. My son loved it!!! th...</td>\n",
              "      <td>1.0</td>\n",
              "      <td>The phone works perfect. My son loved it!!! th...</td>\n",
              "      <td>The phone works perfect. My son loved it!!! sh...</td>\n",
              "      <td>The phone works perfect. My son loved it!!! sh...</td>\n",
              "      <td>the phone works perfect. my son loved it!!! sh...</td>\n",
              "      <td>the phone work perfect. my son love it!!! ship...</td>\n",
              "      <td>the phone work perfect. my son love it!!! ship...</td>\n",
              "      <td>1</td>\n",
              "      <td>0</td>\n",
              "    </tr>\n",
              "    <tr>\n",
              "      <th>2</th>\n",
              "      <td>47297</td>\n",
              "      <td>Apple iPhone 5s 64GB (Gold) -T-Mobile</td>\n",
              "      <td>Apple</td>\n",
              "      <td>265.00</td>\n",
              "      <td>5.0</td>\n",
              "      <td>The iphone is unlock Good phone but bad ime att</td>\n",
              "      <td>0.0</td>\n",
              "      <td>The iphone is unlock Good phone but bad ime att</td>\n",
              "      <td>The iphone unlock Good phone bad ime att</td>\n",
              "      <td>The iphone unlock Good phone bad ime att</td>\n",
              "      <td>the iphone unlock good phone bad ime att</td>\n",
              "      <td>the iphon unlock good phone bad ime att</td>\n",
              "      <td>the iphon unlock good phone bad ime att</td>\n",
              "      <td>0</td>\n",
              "      <td>0</td>\n",
              "    </tr>\n",
              "    <tr>\n",
              "      <th>3</th>\n",
              "      <td>70917</td>\n",
              "      <td>Apple iPhone 6S Plus Unlocked Smartphone, 32 G...</td>\n",
              "      <td>Apple</td>\n",
              "      <td>749.99</td>\n",
              "      <td>5.0</td>\n",
              "      <td>Good</td>\n",
              "      <td>0.0</td>\n",
              "      <td>Good</td>\n",
              "      <td>Good</td>\n",
              "      <td>Good</td>\n",
              "      <td>good</td>\n",
              "      <td>good</td>\n",
              "      <td>good</td>\n",
              "      <td>4</td>\n",
              "      <td>0</td>\n",
              "    </tr>\n",
              "  </tbody>\n",
              "</table>\n",
              "</div>"
            ],
            "text/plain": [
              "   index  ... WMword design\n",
              "0  27982  ...             0\n",
              "1  10370  ...             0\n",
              "2  47297  ...             0\n",
              "3  70917  ...             0\n",
              "\n",
              "[4 rows x 15 columns]"
            ]
          },
          "metadata": {},
          "execution_count": 78
        }
      ]
    },
    {
      "cell_type": "code",
      "metadata": {
        "colab": {
          "base_uri": "https://localhost:8080/",
          "height": 284
        },
        "id": "pou1LlJMYn2I",
        "outputId": "cf1394c4-b264-4f91-fbae-2aea98f9d510"
      },
      "source": [
        "import scipy\n",
        "from scipy.cluster import hierarchy\n",
        "Dendogram = hierarchy.dendrogram(hierarchy.linkage(vectors,method='ward'))\n",
        "plt.axhline(y=10)"
      ],
      "execution_count": 102,
      "outputs": [
        {
          "output_type": "execute_result",
          "data": {
            "text/plain": [
              "<matplotlib.lines.Line2D at 0x7f47d9d87c90>"
            ]
          },
          "metadata": {},
          "execution_count": 102
        },
        {
          "output_type": "display_data",
          "data": {
            "image/png": "[encoded data removed]",
            "text/plain": [
              "<Figure size 432x288 with 1 Axes>"
            ]
          },
          "metadata": {
            "needs_background": "light"
          }
        }
      ]
    },
    {
      "cell_type": "code",
      "metadata": {
        "colab": {
          "base_uri": "https://localhost:8080/"
        },
        "id": "hNTLWdJ2aPk-",
        "outputId": "85f3da2c-632d-4a7c-af22-31dfcc950b76"
      },
      "source": [
        "from sklearn.cluster import AgglomerativeClustering\n",
        "\n",
        "clustering_analysis = AgglomerativeClustering(n_clusters=7, affinity='euclidean', linkage='ward')  \n",
        "Agg = clustering_analysis.fit_predict(vectors)\n",
        "Df1['WMword cluster'] = clustering_analysis.labels_\n",
        "Df1.head(6)\n",
        "Df1.groupby(['WMword cluster'])['freshdata'].count()\n"
      ],
      "execution_count": 88,
      "outputs": [
        {
          "output_type": "execute_result",
          "data": {
            "text/plain": [
              "WMword cluster\n",
              "0    1315\n",
              "1     139\n",
              "2     412\n",
              "3    1202\n",
              "4     141\n",
              "5     532\n",
              "6     259\n",
              "Name: freshdata, dtype: int64"
            ]
          },
          "metadata": {},
          "execution_count": 88
        }
      ]
    },
    {
      "cell_type": "code",
      "metadata": {
        "colab": {
          "base_uri": "https://localhost:8080/"
        },
        "id": "PFQwj9vMbPAR",
        "outputId": "40554bf6-acb3-4dbc-cd1a-462df65313de"
      },
      "source": [
        "for a in range(6):\n",
        "    print(\"sentence\", a) #reviews assigned to cluster\n",
        "    print(Df1.iloc[Df1.groupby(['WMword cluster']).groups[a][0]]['freshdata'])\n",
        "    print(Df1.iloc[Df1.groupby(['WMword cluster']).groups[a][1]]['freshdata'])\n"
      ],
      "execution_count": 105,
      "outputs": [
        {
          "output_type": "stream",
          "name": "stdout",
          "text": [
            "sentence 0\n",
            "phone unlock that good, gb gb\n",
            "the iphon unlock good phone bad ime att\n",
            "sentence 1\n",
            "+++++\n",
            "estafa horribl\n",
            "sentence 2\n",
            "thi phone lock i got even though say un-locked.\n",
            "work great\n",
            "sentence 3\n",
            "the phone work perfect. my son love it!!! shipment realli fast problem activ it. thank you!!! awesome!!\n",
            "% great seller. no problem ever im plea\n",
            "sentence 4\n",
            "great!\n",
            "great!\n",
            "sentence 5\n",
            "thi item iphon box box reseal weird black tape ear bud charger box box japanes horribl fraud\n",
            "i bought wife soon move t-mobil at&t. i usual fear buy expens electron anyon besid manufactur cell phone provider, one work great far.i deduct star sinc i specif chose one said includ charger end included. small issu howev i'm alreadi save much money phone.\n"
          ]
        }
      ]
    },
    {
      "cell_type": "markdown",
      "metadata": {
        "id": "2-q-OGSkDods"
      },
      "source": [
        "In one paragraph, please compare K means, DBSCAN and Hierarchical clustering."
      ]
    },
    {
      "cell_type": "markdown",
      "metadata": {
        "id": "HJ2_wyBplXhj"
      },
      "source": [
        "K-means clustering is an alogorithm where the attributes and features are classified into k number of groups.Here, K is a positive integer and the sum of the squares of the distance is grouped\n",
        "by minimising them and the centroid cluster. This clustering is the most used in the present industry and it computes fast than any other clustering techniques but it doesn't give the same result \n",
        "everytime since the resulting clusters depends on the initial random assignments. K means simply minimizes the variance in a cluster called as SSE(Sum of squared errors).DBscan is a density\n",
        "based non-parametric clustering algorithm. The set of points are grouped together which are closely packed marking as outliers in low-density region. Hierarchical clustering is an unsupervised \n",
        "technique that gives successive clustering based on previously established clusters. Agglomerative is the on of the hierarchical clustering alogorithm which begins each one into seperate clusters \n",
        "and then merges into larger one. In this clustering method, the elements are grouped based on the distance between the each cluster\n"
      ]
    }
  ]
}