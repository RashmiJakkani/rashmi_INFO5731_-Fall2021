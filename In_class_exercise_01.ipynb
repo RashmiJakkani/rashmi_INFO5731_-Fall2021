{
  "nbformat": 4,
  "nbformat_minor": 0,
  "metadata": {
    "colab": {
      "name": "In_class_exercise_01.ipynb",
      "provenance": [],
      "collapsed_sections": [],
      "include_colab_link": true
    },
    "kernelspec": {
      "display_name": "Python 3",
      "language": "python",
      "name": "python3"
    },
    "language_info": {
      "codemirror_mode": {
        "name": "ipython",
        "version": 3
      },
      "file_extension": ".py",
      "mimetype": "text/x-python",
      "name": "python",
      "nbconvert_exporter": "python",
      "pygments_lexer": "ipython3",
      "version": "3.8.5"
    }
  },
  "cells": [
    {
      "cell_type": "markdown",
      "metadata": {
        "id": "view-in-github",
        "colab_type": "text"
      },
      "source": [
        "<a href=\"https://colab.research.google.com/github/rjakkani1015/rashmi_INFO5731_-Fall2021/blob/main/In_class_exercise_01.ipynb\" target=\"_parent\"><img src=\"https://colab.research.google.com/assets/colab-badge.svg\" alt=\"Open In Colab\"/></a>"
      ]
    },
    {
      "cell_type": "markdown",
      "metadata": {
        "id": "DymRJbxDBCnf"
      },
      "source": [
        "# **The first In-class-exercise (09/01/2021, 40 points in total)**"
      ]
    },
    {
      "cell_type": "markdown",
      "metadata": {
        "id": "03jb4GZsBkBS"
      },
      "source": [
        "(1) Write a Python program to calculate the length of a string. (4 points)"
      ]
    },
    {
      "cell_type": "code",
      "metadata": {
        "colab": {
          "base_uri": "https://localhost:8080/"
        },
        "id": "YaGLbSHHB8Ej",
        "outputId": "5709ee10-270d-42a4-ea93-e6f788bfde99"
      },
      "source": [
        "str = input(\"Enter a String:\")\n",
        "print(\"length of the input string:\",len(str))\n"
      ],
      "execution_count": 17,
      "outputs": [
        {
          "output_type": "stream",
          "name": "stdout",
          "text": [
            "Enter a String:Rashmi\n",
            "length of the input string: 6\n"
          ]
        }
      ]
    },
    {
      "cell_type": "markdown",
      "metadata": {
        "id": "jJDe71iLB616"
      },
      "source": [
        "(2) Write a Python program to count the number of characters in a string. (4 points)\n",
        "\n",
        "Sample String : 'google.com‘, \n",
        "\n",
        "Expected Result : {'o': 3, 'g': 2, '.': 1, 'e': 1, 'l': 1, 'm': 1, 'c': 1}"
      ]
    },
    {
      "cell_type": "code",
      "metadata": {
        "colab": {
          "base_uri": "https://localhost:8080/"
        },
        "id": "MtKskTzbCLaU",
        "outputId": "e653771d-4aec-4321-af54-500bc02b0bc4"
      },
      "source": [
        "import operator\n",
        "input_string = input(\"Enter a string:\")\n",
        "dict1 = {}\n",
        "for i in input_string:\n",
        "    dict1[i] = input_string.count(i)\n",
        "    dict2 = dict(sorted(dict1.items(), key=operator.itemgetter(1), reverse=True))\n",
        "print(dict2)    \n"
      ],
      "execution_count": 1,
      "outputs": [
        {
          "output_type": "stream",
          "name": "stdout",
          "text": [
            "Enter a string:google.com\n",
            "{'o': 3, 'g': 2, 'l': 1, 'e': 1, '.': 1, 'c': 1, 'm': 1}\n"
          ]
        }
      ]
    },
    {
      "cell_type": "markdown",
      "metadata": {
        "id": "55W9AMdXCSpV"
      },
      "source": [
        "(3) Write a Python program to sum all the items in a list. (4 points)"
      ]
    },
    {
      "cell_type": "code",
      "metadata": {
        "colab": {
          "base_uri": "https://localhost:8080/"
        },
        "id": "I57NXsauCec2",
        "outputId": "3afa6cfc-f517-4f11-ab3d-747f52369e57"
      },
      "source": [
        "list1 = [10, 20, 30, 41]\n",
        "result = 0\n",
        "\n",
        "for i in range(0, len(list1)):\n",
        "  result = result + list1[i]\n",
        "print(\"sum of the items in the list:\", result)  \n"
      ],
      "execution_count": 2,
      "outputs": [
        {
          "output_type": "stream",
          "name": "stdout",
          "text": [
            "sum of the items in the list: 101\n"
          ]
        }
      ]
    },
    {
      "cell_type": "markdown",
      "metadata": {
        "id": "4ulBZ6yhCi9F"
      },
      "source": [
        "(4) Write a Python program to get a string from a given string where all occurrences of its first char have been changed to '\\$', except the first char itself. (4 points)\n",
        "\n",
        "Sample String : 'restart‘, \n",
        "\n",
        "Expected Result : 'resta\\$t'"
      ]
    },
    {
      "cell_type": "code",
      "metadata": {
        "colab": {
          "base_uri": "https://localhost:8080/"
        },
        "id": "Fj0XhwbBCw2o",
        "outputId": "db5b571c-95a8-451e-f834-41b4ca790c67"
      },
      "source": [
        "input_str = input(\"Enter a string:\")\n",
        "\n",
        "compare_str = input_str[1: len(input_str)]\n",
        "\n",
        "result = compare_str.replace(input_str[0], '$')\n",
        "print(input_str[0]+result)\n"
      ],
      "execution_count": 3,
      "outputs": [
        {
          "output_type": "stream",
          "name": "stdout",
          "text": [
            "Enter a string:restart\n",
            "resta$t\n"
          ]
        }
      ]
    },
    {
      "cell_type": "markdown",
      "metadata": {
        "id": "_bIP7s1MCzue"
      },
      "source": [
        "(5) Write a program with python which could accept two parameter a and b to calculate and output the result of S, where \n",
        "\n",
        "$\\ S=3.14*(1+a/b)^3$ (4 points)\n",
        "\n"
      ]
    },
    {
      "cell_type": "code",
      "metadata": {
        "colab": {
          "base_uri": "https://localhost:8080/"
        },
        "id": "w79QilHXD3Mg",
        "outputId": "b8afffa0-05a0-4241-999d-6f34edc0506f"
      },
      "source": [
        "input_a = float(input(\"Enter value a: \"))\n",
        "input_b = float(input(\"Enter value b: \"))\n",
        "\n",
        "def calc(a, b):\n",
        "  s = 3.14 * pow(1 + (a / b), 3)\n",
        "  print('S: ',s)  \n",
        "\n",
        "calc(input_a, input_b)\n"
      ],
      "execution_count": 7,
      "outputs": [
        {
          "output_type": "stream",
          "name": "stdout",
          "text": [
            "Enter value a: 2\n",
            "Enter value b: 1\n",
            "S:  84.78\n"
          ]
        }
      ]
    },
    {
      "cell_type": "code",
      "metadata": {
        "id": "_j3fCWRQR2rH"
      },
      "source": [
        ""
      ],
      "execution_count": null,
      "outputs": []
    },
    {
      "cell_type": "markdown",
      "metadata": {
        "id": "xCa2bK9aD4Q3"
      },
      "source": [
        "(6) Write a Python program to concatenate following dictionaries to create a new one. (4 points)\n",
        "\n",
        "Sample Dictionary : dic1={1:10, 2:20}, dic2={3:30, 4:40}, dic3={5:50,6:60}, \n",
        "\n",
        "Expected Result : {1: 10, 2: 20, 3: 30, 4: 40, 5: 50, 6: 60}\n"
      ]
    },
    {
      "cell_type": "code",
      "metadata": {
        "colab": {
          "base_uri": "https://localhost:8080/"
        },
        "id": "_z4aLqAbEET1",
        "outputId": "2f53f220-4109-43de-9b24-fbb331e495cf"
      },
      "source": [
        "dic1 = {1: 10, 2: 20}\n",
        "dic2 = {3: 30, 4: 40}\n",
        "dic3 = {5: 50, 6: 60}\n",
        "\n",
        "dic1.update(dic2)\n",
        "dic1.update(dic3)\n",
        "\n",
        "print(\"Expected Result: \", dic1)\n"
      ],
      "execution_count": 9,
      "outputs": [
        {
          "output_type": "stream",
          "name": "stdout",
          "text": [
            "Expected Result:  {1: 10, 2: 20, 3: 30, 4: 40, 5: 50, 6: 60}\n"
          ]
        }
      ]
    },
    {
      "cell_type": "markdown",
      "metadata": {
        "id": "0v48Vqa7FrQh"
      },
      "source": [
        "(7) Write a Python program to check whether an element exists within a tuple. (4 points)"
      ]
    },
    {
      "cell_type": "code",
      "metadata": {
        "colab": {
          "base_uri": "https://localhost:8080/"
        },
        "id": "7WEmgq-DF2P1",
        "outputId": "290bc531-971b-4733-d146-e648138e990e"
      },
      "source": [
        "tup = (1, 2, 3, 4, 5, 6, 7, 8, 9)\n",
        "\n",
        "input_ele = int(input(\"Enter to be number searched: \"))\n",
        "\n",
        "if tup.count(input_ele) == 0:\n",
        "  print(\"number is not present\")\n",
        "else:\n",
        "  print(\"number is present\")  "
      ],
      "execution_count": 10,
      "outputs": [
        {
          "output_type": "stream",
          "name": "stdout",
          "text": [
            "Enter to be number searched: 4\n",
            "number is present\n"
          ]
        }
      ]
    },
    {
      "cell_type": "markdown",
      "metadata": {
        "id": "vD5PYLMuGga_"
      },
      "source": [
        "(8) Write a Python program to find maximum and the minimum value in a set. (4 points)"
      ]
    },
    {
      "cell_type": "code",
      "metadata": {
        "colab": {
          "base_uri": "https://localhost:8080/"
        },
        "id": "t0D5kdJUGjjw",
        "outputId": "aafbb2f0-882a-4753-cd29-56280c8b003c"
      },
      "source": [
        "input_set = {1, 2, 6, 4, 5}\n",
        "\n",
        "print(\"Maximum Value: \", max(input_set))\n",
        "print(\"Minimum Value: \", min(input_set))\n",
        "\n"
      ],
      "execution_count": 11,
      "outputs": [
        {
          "output_type": "stream",
          "name": "stdout",
          "text": [
            "Maximum Value:  6\n",
            "Minimum Value:  1\n"
          ]
        }
      ]
    },
    {
      "cell_type": "markdown",
      "metadata": {
        "id": "uHkd-y5VhVWC"
      },
      "source": [
        "(9) Write a Python program to randomly divide the students in this class into six groups for term projects, each group should have at least 4 students but no more than 6 students (including 6). Here is the students list: (4 points)\n",
        "\n",
        "studnet_list = ['vmb0067','pc0353','snd0097','yye0005','sg0940','bk0301','rak0120','rrk0058','spk0057','vl0135','nm0547','pn0159',\n",
        "           'msp0174','dd0420','ds0761','rs0850','ss1995','at0739','at0768','mv0299','tv0119','dy0091','py0080','ttp0037','hc0439','ri0094','pk0339', 'hn0145','mn0426']"
      ]
    },
    {
      "cell_type": "code",
      "metadata": {
        "colab": {
          "base_uri": "https://localhost:8080/"
        },
        "id": "3iGbmcOBhTwy",
        "outputId": "4dbac78c-f64f-4f8c-e810-66479d451417"
      },
      "source": [
        "student_list = ['vmb0067', 'pc0353', 'snd0097', 'yye0005', 'sg0940', 'bk0301', 'rak0120', 'rrk0058', 'spk0057', 'vl0135', 'nm0547', 'pn0159', 'msp0174', 'dd0420', 'ds0761', 'rs0850', 'ss1995', 'at0739', 'at0768', 'mv0299', 'tv0119', 'dy0091', 'py0080', 'ttp0037', 'hc0439', 'ri0094', 'pk0339', 'hn0145', 'mn0426']\n",
        "dict = {}\n",
        "\n",
        "for idx, val in enumerate(student_list):\n",
        "  dict_key = (idx + 1) % 6\n",
        "  dict.setdefault(dict_key, []).append(val)\n",
        "\n",
        "print(dict)  \n"
      ],
      "execution_count": 16,
      "outputs": [
        {
          "output_type": "stream",
          "name": "stdout",
          "text": [
            "{1: ['vmb0067', 'rak0120', 'msp0174', 'at0768', 'hc0439'], 2: ['pc0353', 'rrk0058', 'dd0420', 'mv0299', 'ri0094'], 3: ['snd0097', 'spk0057', 'ds0761', 'tv0119', 'pk0339'], 4: ['yye0005', 'vl0135', 'rs0850', 'dy0091', 'hn0145'], 5: ['sg0940', 'nm0547', 'ss1995', 'py0080', 'mn0426'], 0: ['bk0301', 'pn0159', 'at0739', 'ttp0037']}\n"
          ]
        }
      ]
    },
    {
      "cell_type": "markdown",
      "metadata": {
        "id": "ZHd3RUAqZWW5"
      },
      "source": [
        "(10) Write a Python program to find the duplicate elements in a given array of integers. Return -1 If there are no such elements. (4 points)"
      ]
    },
    {
      "cell_type": "code",
      "metadata": {
        "colab": {
          "base_uri": "https://localhost:8080/"
        },
        "id": "hypXyGrSZWW5",
        "outputId": "eeefae1f-9942-4341-f6a8-284cfe488c9c"
      },
      "source": [
        "input_array = [1, 2, 3, 4, 5, 5]\n",
        "\n",
        "output_array = []\n",
        "dupes = []\n",
        "counter = 0\n",
        "\n",
        "for i in input_array:\n",
        "    if i not in output_array:\n",
        "      output_array.append(i)\n",
        "    else:\n",
        "      dupes.append(i)\n",
        "      counter=counter+1\n",
        "\n",
        "if counter>0:\n",
        "  print(dupes)\n",
        "else:\n",
        "  print(\"-1\")  \n",
        "\n",
        "\n",
        "\n",
        "\n",
        "\n"
      ],
      "execution_count": 15,
      "outputs": [
        {
          "output_type": "stream",
          "name": "stdout",
          "text": [
            "[5]\n"
          ]
        }
      ]
    },
    {
      "cell_type": "markdown",
      "metadata": {
        "id": "ZThPot2pZWW5"
      },
      "source": [
        "(11) Write a Python program to select all the Sundays of a specified year. (4 extra points)"
      ]
    },
    {
      "cell_type": "code",
      "metadata": {
        "colab": {
          "base_uri": "https://localhost:8080/"
        },
        "id": "0m4Bh2HGZWW6",
        "outputId": "63c440f3-914b-4619-bf65-b4dd9ab838df"
      },
      "source": [
        "import operator\n",
        "import json\n",
        "import datetime\n",
        "from datetime import date, timedelta\n",
        "\n",
        "year = 2017\n",
        "\n",
        "first_day_of_year = date(year, 1, 1)\n",
        "first_day_name = first_day_of_year.weekday()\n",
        "first_sunday = first_day_of_year+datetime.timedelta(days = (6-first_day_name))\n",
        "lastday_of_year = date(year, 12, 31)\n",
        "\n",
        "while first_sunday < lastday_of_year:\n",
        "  first_sunday = first_sunday+datetime.timedelta(days = 7)\n",
        "  print(first_sunday)\n",
        "\n"
      ],
      "execution_count": 39,
      "outputs": [
        {
          "output_type": "stream",
          "name": "stdout",
          "text": [
            "2017-01-08\n",
            "2017-01-15\n",
            "2017-01-22\n",
            "2017-01-29\n",
            "2017-02-05\n",
            "2017-02-12\n",
            "2017-02-19\n",
            "2017-02-26\n",
            "2017-03-05\n",
            "2017-03-12\n",
            "2017-03-19\n",
            "2017-03-26\n",
            "2017-04-02\n",
            "2017-04-09\n",
            "2017-04-16\n",
            "2017-04-23\n",
            "2017-04-30\n",
            "2017-05-07\n",
            "2017-05-14\n",
            "2017-05-21\n",
            "2017-05-28\n",
            "2017-06-04\n",
            "2017-06-11\n",
            "2017-06-18\n",
            "2017-06-25\n",
            "2017-07-02\n",
            "2017-07-09\n",
            "2017-07-16\n",
            "2017-07-23\n",
            "2017-07-30\n",
            "2017-08-06\n",
            "2017-08-13\n",
            "2017-08-20\n",
            "2017-08-27\n",
            "2017-09-03\n",
            "2017-09-10\n",
            "2017-09-17\n",
            "2017-09-24\n",
            "2017-10-01\n",
            "2017-10-08\n",
            "2017-10-15\n",
            "2017-10-22\n",
            "2017-10-29\n",
            "2017-11-05\n",
            "2017-11-12\n",
            "2017-11-19\n",
            "2017-11-26\n",
            "2017-12-03\n",
            "2017-12-10\n",
            "2017-12-17\n",
            "2017-12-24\n",
            "2017-12-31\n"
          ]
        }
      ]
    }
  ]
}