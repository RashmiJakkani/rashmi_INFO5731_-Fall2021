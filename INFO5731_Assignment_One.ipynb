{
  "nbformat": 4,
  "nbformat_minor": 0,
  "metadata": {
    "colab": {
      "name": "INFO5731_Assignment_One.ipynb",
      "provenance": [],
      "collapsed_sections": [],
      "include_colab_link": true
    },
    "kernelspec": {
      "display_name": "Python 3",
      "language": "python",
      "name": "python3"
    },
    "language_info": {
      "codemirror_mode": {
        "name": "ipython",
        "version": 3
      },
      "file_extension": ".py",
      "mimetype": "text/x-python",
      "name": "python",
      "nbconvert_exporter": "python",
      "pygments_lexer": "ipython3",
      "version": "3.8.5"
    }
  },
  "cells": [
    {
      "cell_type": "markdown",
      "metadata": {
        "id": "view-in-github",
        "colab_type": "text"
      },
      "source": [
        "<a href=\"https://colab.research.google.com/github/rjakkani1015/rashmi_INFO5731_-Fall2021/blob/main/INFO5731_Assignment_One.ipynb\" target=\"_parent\"><img src=\"https://colab.research.google.com/assets/colab-badge.svg\" alt=\"Open In Colab\"/></a>"
      ]
    },
    {
      "cell_type": "markdown",
      "metadata": {
        "id": "Ryk8D1Q4Wsrp"
      },
      "source": [
        "# **INFO5731 Assignment One**"
      ]
    },
    {
      "cell_type": "markdown",
      "metadata": {
        "id": "90_NR8c5XGWc"
      },
      "source": [
        "# Question 1\n",
        "\n",
        "(20 points). Write a Python program to generate 12 random numbers between 1 and 100. Sort the list of numbers in ascending order and print it out. Sort the list of numbers in descending order and print it out. Calculate the average for the group and print it out."
      ]
    },
    {
      "cell_type": "code",
      "metadata": {
        "colab": {
          "base_uri": "https://localhost:8080/"
        },
        "id": "5QX6bJjGWXY9",
        "outputId": "5aac2a97-ed3c-409d-9948-2e237f6ee75f"
      },
      "source": [
        "import random\n",
        "\n",
        "num = list(range(1, 100))\n",
        "list1 = random.sample(num, 12)\n",
        "print(\"The random numbers:\", list1)\n",
        "\n",
        "i = 0\n",
        "for i in range(i, len(list1)):\n",
        "    for j in range(i+1, len(list1)):\n",
        "        if (list1[i] > list1[j]):\n",
        "            temp = list1[i]\n",
        "            list1[i] = list1[j]\n",
        "            list1[j] = temp\n",
        "\n",
        "print(\"The sorted Asc numbers:\", list1)\n",
        "\n",
        "list1.sort(reverse = True)\n",
        "print(\"The sorted Des numbers:\", list1)\n",
        "\n",
        "total_sum = 0\n",
        "\n",
        "for n in range(0, len(list1)):\n",
        "    total_sum = total_sum + list1[n]\n",
        "\n",
        "avg = total_sum / len(list1)\n",
        "print(\"The Average of numbers:\", avg)\n",
        "\n"
      ],
      "execution_count": 1,
      "outputs": [
        {
          "output_type": "stream",
          "name": "stdout",
          "text": [
            "The random numbers: [46, 21, 37, 86, 27, 9, 66, 28, 85, 72, 68, 99]\n",
            "The sorted Asc numbers: [9, 21, 27, 28, 37, 46, 66, 68, 72, 85, 86, 99]\n",
            "The sorted Des numbers: [99, 86, 85, 72, 68, 66, 46, 37, 28, 27, 21, 9]\n",
            "The Average of numbers: 53.666666666666664\n"
          ]
        }
      ]
    },
    {
      "cell_type": "markdown",
      "metadata": {
        "id": "1F_PZdH9Sh49"
      },
      "source": [
        "# Question 2\n",
        "(25 points). Write a program that will do the following string formatting tasks:\n",
        "\n",
        "(1) Ask the user to enter two sentences.\n",
        "\n",
        "(2) Make each sentence into a list. Each element in the list should correspond to a word in the sentence. For example, if the sentence is \"Alas! Am I alive? This is my first python program\", the program should print out ['Alas, '!', 'Am', 'I', 'alive, '?', 'This', 'is', 'my', 'first', 'python', 'program'].\n",
        "\n",
        "(3) Compare the two sentences. Print out a list of words that occur in both sentences.\n",
        "\n",
        "(4) Remove any punctuation from the sentence and print it back out. It should remove at least the following characters, but it can remove more: period(“.”), comma (“,”), semicolon (“;”), and colon (“:”)\n",
        "\n",
        "(5) Count the number of vowels in the sentences. Print out each vowel and the number of times it appears in the sentences, such as: a:2, e:1, i:0, etc"
      ]
    },
    {
      "cell_type": "code",
      "metadata": {
        "colab": {
          "base_uri": "https://localhost:8080/"
        },
        "id": "Y0oOSlsOS0cq",
        "outputId": "01afa297-e268-4b63-fe6f-2509dddcfa77"
      },
      "source": [
        "input_string1 = input(\"Enter a sentence1:\")\n",
        "input_string2 = input(\"Enter a sentence2:\")\n",
        "\n",
        "list1 = input_string1.split(' ')\n",
        "list2 = input_string2.split(' ')\n",
        "\n",
        "print(\"list of sentence1:\", list1)\n",
        "print(\"list of sentence2:\", list2)\n",
        "list3 = []\n",
        "for i in list1:\n",
        "    if i in list2:\n",
        "        list3.append(i)\n",
        "\n",
        "print(\"list of common words:\", list3)\n",
        "\n",
        "table1 = str.maketrans(\"!?.\", 3 * \" \")\n",
        "table2 = str.maketrans(\"!?\", 2 * \" \")\n",
        "\n",
        "input_string1.translate(table1)\n",
        "input_string2.translate(table2)\n",
        "\n",
        "print(\"sentence1 without punctuation marks:\", input_string1.translate(table1))\n",
        "print(\"sentence2 without punctuation marks:\", input_string2.translate(table2))\n",
        "\n",
        "string1 = input_string1.lower()\n",
        "string2 = input_string2.lower()\n",
        "\n",
        "sentence1_count = 0\n",
        "sentence2_count = 0\n",
        "list4 = ['a', 'e', 'i', 'o', 'u']\n",
        "for char in string1:\n",
        "    if char in list4:\n",
        "        sentence1_count = sentence1_count + 1\n",
        "print(\"number of vowels in sentence1:\", sentence1_count)\n",
        "for char in string2:\n",
        "    if char in list4:\n",
        "        sentence2_count = sentence2_count + 1\n",
        "print(\"number of vowels in sentence2:\", sentence2_count)\n",
        "\n",
        "dict1 = {}.fromkeys(list4, 0)\n",
        "for i in string1:\n",
        "    if i in dict1:\n",
        "        dict1[i] = dict1[i] + 1\n",
        "print(\"Vowels in sentence1:\", dict1)\n",
        "\n",
        "dict2 = {}.fromkeys(list4, 0)\n",
        "for i in string2:\n",
        "    if i in dict2:\n",
        "        dict2[i] = dict2[i] + 1\n",
        "print(\"Vowels in sentence2:\", dict2)\n",
        "\n"
      ],
      "execution_count": 2,
      "outputs": [
        {
          "output_type": "stream",
          "name": "stdout",
          "text": [
            "Enter a sentence1:Hi! What's your name? My name is Rashmi.\n",
            "Enter a sentence2:Hi! May I know your name please?\n",
            "list of sentence1: ['Hi!', \"What's\", 'your', 'name?', 'My', 'name', 'is', 'Rashmi.']\n",
            "list of sentence2: ['Hi!', 'May', 'I', 'know', 'your', 'name', 'please?']\n",
            "list of common words: ['Hi!', 'your', 'name']\n",
            "sentence1 without punctuation marks: Hi  What's your name  My name is Rashmi \n",
            "sentence2 without punctuation marks: Hi  May I know your name please \n",
            "number of vowels in sentence1: 11\n",
            "number of vowels in sentence2: 11\n",
            "Vowels in sentence1: {'a': 4, 'e': 2, 'i': 3, 'o': 1, 'u': 1}\n",
            "Vowels in sentence2: {'a': 3, 'e': 3, 'i': 2, 'o': 2, 'u': 1}\n"
          ]
        }
      ]
    },
    {
      "cell_type": "markdown",
      "metadata": {
        "id": "CmFoI4jDS9nx"
      },
      "source": [
        "# Question 3 \n",
        "\n",
        "(15 points). The formula that describes the volume V of a sphere with radius r is the following:\n",
        "\n",
        "$ V=\\frac{4}{3}\\ast\\ \\pi\\ast\\ r^3 $\n",
        "\n",
        "Write a program to calculate the value of V when r is in the range of 1–10. Output the result in the following format:\n",
        "\n",
        "\tr\tV\n",
        "\t1\t…\n",
        "\t2\t…\n",
        "\t3\t…\n"
      ]
    },
    {
      "cell_type": "code",
      "metadata": {
        "colab": {
          "base_uri": "https://localhost:8080/"
        },
        "id": "pEyqeioAT95b",
        "outputId": "69e48d6d-c8ac-446b-a66f-fd528cf0ed80"
      },
      "source": [
        "import math\n",
        "\n",
        "print(\"r\\tV\")\n",
        "for radius in range(1, 11):\n",
        "    volume = (4 / 3) * (math.pi * radius ** 3)\n",
        "    print(radius, \"\\t\", volume)\n",
        "\n"
      ],
      "execution_count": 3,
      "outputs": [
        {
          "output_type": "stream",
          "name": "stdout",
          "text": [
            "r\tV\n",
            "1 \t 4.1887902047863905\n",
            "2 \t 33.510321638291124\n",
            "3 \t 113.09733552923254\n",
            "4 \t 268.082573106329\n",
            "5 \t 523.5987755982987\n",
            "6 \t 904.7786842338603\n",
            "7 \t 1436.755040241732\n",
            "8 \t 2144.660584850632\n",
            "9 \t 3053.6280592892786\n",
            "10 \t 4188.79020478639\n"
          ]
        }
      ]
    },
    {
      "cell_type": "code",
      "metadata": {
        "id": "pMCr3l8tnu0j"
      },
      "source": [
        ""
      ],
      "execution_count": null,
      "outputs": []
    },
    {
      "cell_type": "markdown",
      "metadata": {
        "id": "z3tBE7E-Xn5X"
      },
      "source": [
        "# Question 4\n",
        "\n",
        "(40 points). In the field of Data Science, data is often formatted as a comma-delimited (CSV) file, where each line in a file corresponds to a field's value. Refer to Chapter 9 (p. 106) for more information on comma-delimited files. To answer this question, you will need to download the file [Assignment1_denton_housing.csv](https://github.com/unt-iialab/info5731-fall2021/blob/main/assignments/Assignment1_denton_housing.csv) included with this assignment. The file [Assignment1_denton_housing.csv](https://github.com/unt-iialab/info5731-fall2021/blob/main/assignments/Assignment1_denton_housing.csv) contains statistics about housing in the city of Denton from 2008 to 2014. Write a program to implement the following questions.\n",
        "\n",
        "(1) (10 pts) Calculate the difference in the number of Occupied Housing Units from year to year and print it. The difference must be calculated for the consecutive years such as 2008-2009, 2009-2010 etc. Finally, print the values in the ascending order.\n",
        "\n",
        "(2) (10 pts) For all the years, calculate the percentage of housing units which are vacant an occupied. Print the results in the following format:\n",
        "\n",
        "Year Vacant Housing Units Occupied Housing Units\n",
        "\n",
        "    2008  30%   70%                          \n",
        "\t2009 ----- -----\n",
        "\t2010 ----- -----\n",
        "    2011 ----- -----\n",
        "\t2012 ----- -----\n",
        "    2013 ----- -----\n",
        "\t2014 ----- -----\n",
        "  \n",
        "  \n",
        "\n",
        "(3) (10 pts) Calculate and print the valued and years in which the highest number of housing units were vacant and occupied. Print the results in the following format:  \n",
        "\n",
        "                              Year\tValue\n",
        "\tVacant Housing Units\t  -----   -----\n",
        "\tOccupied Housing Units\t-----   -----\n",
        "\n",
        "(4) (10 pts) Calculate the harmonic mean of the total housing units and print it out. You can find the information about harmonic mean here: https://ncalculators.com/statistics/harmonic-mean-calculator.htm"
      ]
    },
    {
      "cell_type": "code",
      "metadata": {
        "colab": {
          "base_uri": "https://localhost:8080/"
        },
        "id": "lqGYuHBhcsRH",
        "outputId": "f8480d76-1616-4e3f-852b-8be6bd96a962"
      },
      "source": [
        "import pandas as pd\n",
        "import statistics\n",
        "\n",
        "houses_in_denton = pd.read_csv(\"Assignment1_denton_housing.csv\")\n",
        "\n",
        "occupancy = houses_in_denton[houses_in_denton['title_field'] == 'Occupied Housing Units'].sort_values(by=['year'])\n",
        "vacancy = houses_in_denton[houses_in_denton['title_field'] == 'Vacant Housing Units']\n",
        "\n",
        "constructed_houses_yoy = sorted([list(occupancy['value'].values)[loop1] - list(occupancy['value'].values) [loop1 + 1]\n",
        "                          for loop1 in range(len(occupancy) - 1)])\n",
        "\n",
        "print(\"Occupied Housing Units from year to year = \", constructed_houses_yoy)\n",
        "\n",
        "new_houses = pd.DataFrame()\n",
        "new_houses['year'] = sorted(list(houses_in_denton['year'].unique()))\n",
        "\n",
        "new_houses['Vacant house_dataset'] = vacancy['value'].values\n",
        "new_houses['Occupied house_dataset'] = occupancy['value'].values\n",
        "\n",
        "new_houses['Percent of Vacant house_dataset'] = [(new_houses['Vacant house_dataset'][loop1] * 100) /\n",
        "                                                 (new_houses['Vacant house_dataset'][loop1] + new_houses['Vacant house_dataset'][loop1])\n",
        "                                                 for loop1 in range(len(new_houses))]\n",
        "new_houses['Percent of Occupied house_dataset'] = [(new_houses['Occupied house_dataset'][loop1] * 100) /\n",
        "                                                   (new_houses['Occupied house_dataset'][loop1] + new_houses['Occupied house_dataset'][loop1])\n",
        "                                                   for loop1 in range(len(new_houses))]\n",
        "\n",
        "print(new_houses)\n",
        "\n",
        "maximum_vacancy = max(houses_in_denton[houses_in_denton['title_field'] == 'Vacant Housing Units'].value)\n",
        "vacancy = vacancy[vacancy['value'] == maximum_vacancy]\n",
        "\n",
        "maximum_occupancy = max(houses_in_denton[houses_in_denton['title_field'] == 'Occupied Housing Units'].value)\n",
        "occupancy = occupancy[occupancy['value'] == maximum_occupancy]\n",
        "\n",
        "print(vacancy)\n",
        "print(occupancy)\n",
        "print('\\nHarmonic Mean: ', statistics.harmonic_mean(list(houses_in_denton[houses_in_denton['title_field'] == 'Total Housing Units'].value)))\n",
        "\n",
        "\n",
        "\n",
        "\n"
      ],
      "execution_count": 10,
      "outputs": [
        {
          "output_type": "stream",
          "name": "stdout",
          "text": [
            "Occupied Housing Units from year to year =  [-5091, -2622, -1565, -1404, 303, 795]\n",
            "   year  ...  Percent of Occupied house_dataset\n",
            "0  2008  ...                               50.0\n",
            "1  2009  ...                               50.0\n",
            "2  2010  ...                               50.0\n",
            "3  2011  ...                               50.0\n",
            "4  2012  ...                               50.0\n",
            "5  2013  ...                               50.0\n",
            "6  2014  ...                               50.0\n",
            "\n",
            "[7 rows x 5 columns]\n",
            "    year           title_field  value\n",
            "19  2008  Vacant Housing Units   4483\n",
            "   year             title_field  value\n",
            "2  2014  Occupied Housing Units  46295\n",
            "\n",
            "Harmonic Mean:  44398.28543969185\n"
          ]
        }
      ]
    }
  ]
}