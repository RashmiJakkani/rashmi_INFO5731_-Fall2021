{
  "nbformat": 4,
  "nbformat_minor": 0,
  "metadata": {
    "colab": {
      "name": "INFO5731_Assignment_Four.ipynb",
      "provenance": [],
      "collapsed_sections": [],
      "include_colab_link": true
    },
    "kernelspec": {
      "display_name": "Python 3",
      "language": "python",
      "name": "python3"
    },
    "language_info": {
      "codemirror_mode": {
        "name": "ipython",
        "version": 3
      },
      "file_extension": ".py",
      "mimetype": "text/x-python",
      "name": "python",
      "nbconvert_exporter": "python",
      "pygments_lexer": "ipython3",
      "version": "3.8.5"
    }
  },
  "cells": [
    {
      "cell_type": "markdown",
      "metadata": {
        "id": "view-in-github",
        "colab_type": "text"
      },
      "source": [
        "<a href=\"https://colab.research.google.com/github/rjakkani1015/rashmi_INFO5731_-Fall2021/blob/main/INFO5731_Assignment_Four.ipynb\" target=\"_parent\"><img src=\"https://colab.research.google.com/assets/colab-badge.svg\" alt=\"Open In Colab\"/></a>"
      ]
    },
    {
      "cell_type": "markdown",
      "metadata": {
        "id": "USSdXHuqnwv9"
      },
      "source": [
        "# **INFO5731 Assignment Four**\n",
        "\n",
        "In this assignment, you are required to conduct topic modeling, sentiment analysis based on **the dataset you created from assignment three**."
      ]
    },
    {
      "cell_type": "markdown",
      "metadata": {
        "id": "YWxodXh5n4xF"
      },
      "source": [
        "# **Question 1: Topic Modeling**"
      ]
    },
    {
      "cell_type": "markdown",
      "metadata": {
        "id": "TenBkDJ5n95k"
      },
      "source": [
        "(30 points). This question is designed to help you develop a feel for the way topic modeling works, the connection to the human meanings of documents. Based on the dataset from assignment three, write a python program to **identify the top 10 topics in the dataset**. Before answering this question, please review the materials in lesson 8, especially the code for LDA and LSA. The following information should be reported:\n",
        "\n",
        "(1) Features (top n-gram phrases) used for topic modeling.\n",
        "\n",
        "(2) Top 10 clusters for topic modeling.\n",
        "\n",
        "(3) Summarize and describe the topic for each cluster. \n"
      ]
    },
    {
      "cell_type": "code",
      "metadata": {
        "id": "PuFPKhC0m1fd"
      },
      "source": [
        "import pandas as pd\n",
        "d = pd.read_csv(\"file1.csv\")\n",
        "\n",
        "\n"
      ],
      "execution_count": 20,
      "outputs": []
    },
    {
      "cell_type": "code",
      "metadata": {
        "colab": {
          "base_uri": "https://localhost:8080/"
        },
        "id": "pHFKMkJ1Jyqp",
        "outputId": "0cae76af-2c09-4f6c-efd6-b54e58d8a751"
      },
      "source": [
        "!pip install stop_words"
      ],
      "execution_count": 7,
      "outputs": [
        {
          "output_type": "stream",
          "name": "stdout",
          "text": [
            "Requirement already satisfied: stop_words in /usr/local/lib/python3.7/dist-packages (2018.7.23)\n"
          ]
        }
      ]
    },
    {
      "cell_type": "markdown",
      "metadata": {
        "id": "tkB6lBWoL0h1"
      },
      "source": [
        "Data cleaning and Preprocessing\n"
      ]
    },
    {
      "cell_type": "code",
      "metadata": {
        "id": "KH97K7bBL5wA"
      },
      "source": [
        "from nltk.tokenize import RegexpTokenizer\n",
        "from stop_words import get_stop_words\n",
        "from nltk.stem.porter import PorterStemmer\n",
        "tokenizer = RegexpTokenizer(r'\\w+')\n",
        "en_stop = get_stop_words('en')\n",
        "pstem = PorterStemmer()\n",
        "\n",
        "d['Lcase'] = d['500 abstracts'].apply(lambda i: \" \".join(i.lower() for i in str(i).split()))\n",
        "d['Tokenization'] = d['Lcase'].apply(lambda i: tokenizer.tokenize(i))\n",
        "d['tok'] = d['Tokenization'].apply(lambda i: [a for a in i if not a in en_stop])\n",
        "d['Stemm'] = d['tok'].apply(lambda i: [p_stemmer.stem(a) for a in i])\n",
        "lists = []\n",
        "for line in d['Stemm']:\n",
        "  lists.append(line)"
      ],
      "execution_count": 34,
      "outputs": []
    },
    {
      "cell_type": "markdown",
      "metadata": {
        "id": "ktfdvoeXc_21"
      },
      "source": [
        "Bigrams and Trigrams\n"
      ]
    },
    {
      "cell_type": "code",
      "metadata": {
        "colab": {
          "base_uri": "https://localhost:8080/"
        },
        "id": "TinUJvJ9dEGx",
        "outputId": "07eb9237-5d06-490e-c05c-b6937d708ba8"
      },
      "source": [
        "from gensim import corpora, models\n",
        "Bi_grams = models.Phrases(lists, min_count=5, threshold=100)\n",
        "Tri_grams = models.Phrases(Bi_grams[lists], threshold=100)\n",
        "Bi_gramsmodel = models.phrases.Phraser(Bi_grams)\n",
        "Tri_gramsmodel = models.phrases.Phraser(Tri_grams)\n",
        "print(Tri_gramsmodel[Bi_gramsmodel[lists[0]]])\n"
      ],
      "execution_count": 35,
      "outputs": [
        {
          "output_type": "stream",
          "name": "stderr",
          "text": [
            "/usr/local/lib/python3.7/dist-packages/gensim/models/phrases.py:598: UserWarning: For a faster implementation, use the gensim.models.phrases.Phraser class\n",
            "  warnings.warn(\"For a faster implementation, use the gensim.models.phrases.Phraser class\")\n"
          ]
        },
        {
          "output_type": "stream",
          "name": "stdout",
          "text": [
            "['abstract', 'smart', 'health', 'can', 'defin', 'medic', 'public', 'health', 'practic', 'support', 'smart', 'mobil', 'devic', 'point', 'mhealth', 'u', 'health', 'can', 'made', 'use', 'smart', 'phone', 'connect', 'wireless', 'network', 'also', 'emergenc', 'technolog', 'shealth', 'can', 'give']\n"
          ]
        }
      ]
    },
    {
      "cell_type": "code",
      "metadata": {
        "id": "EQ8TvhSyeRbX"
      },
      "source": [
        "def mBi_grams(lists):\n",
        "    return [Bi_gramsmodel[document] for document in lists]\n",
        "def mTri_grams(lists):\n",
        "    return [Tri_gramsmodel[Bi_gramsmodel[document]] for document in lists]\n",
        "def lemmatization(lists, given=['NOUN', 'ADJ', 'VERB', 'ADV']):\n",
        "    listsoutput = []\n",
        "    for SA in lists:\n",
        "        document = nlp(\" \".join(SA)) \n",
        "        listsoutput.append([token.lemma_ for token in document if token.pos_ in given])\n",
        "    return listsoutput"
      ],
      "execution_count": 39,
      "outputs": []
    },
    {
      "cell_type": "code",
      "metadata": {
        "colab": {
          "base_uri": "https://localhost:8080/"
        },
        "id": "sZ4-DTW6gRhX",
        "outputId": "6e09fc77-6d98-4a8a-9f80-ae230358e92b"
      },
      "source": [
        "import spacy\n",
        "Bi_gramsdata = mBi_grams(lists)\n",
        "nlp = spacy.load('en', disable=['parser', 'ner'])\n",
        "lemmatizeddata = lemmatization(Bi_gramsdata, given=['NOUN', 'ADJ', 'VERB', 'ADV'])\n",
        "print(lemmatizeddata[:1])\n"
      ],
      "execution_count": 40,
      "outputs": [
        {
          "output_type": "stream",
          "name": "stdout",
          "text": [
            "[['can', 'defin', 'medic', 'public', 'health', 'practic', 'support', 'health', 'can', 'made', 'use', 'smart', 'phone', 'connect', 'wireless', 'also', 'emergenc', 'technolog', 'shealth', 'can', 'give']]\n"
          ]
        }
      ]
    },
    {
      "cell_type": "markdown",
      "metadata": {
        "id": "rCD8Vasgpsqs"
      },
      "source": [
        "Corpus\n"
      ]
    },
    {
      "cell_type": "code",
      "metadata": {
        "colab": {
          "base_uri": "https://localhost:8080/"
        },
        "id": "geKp_XfIiUqu",
        "outputId": "e60d4097-73c9-4839-fc7c-ad67c4c7c4fc"
      },
      "source": [
        "id2word = corpora.Dictionary(lemmatizeddata)\n",
        "lists = lemmatizeddata\n",
        "corpus = [id2word.doc2bow(list) for list in lists]\n",
        "print(corpus[:1])\n",
        "print(id2word[0])\n",
        "[[(id2word[dip], freq) for dip, freq in cip] for cip in corpus[:1]]"
      ],
      "execution_count": 62,
      "outputs": [
        {
          "output_type": "stream",
          "name": "stdout",
          "text": [
            "[[(0, 1), (1, 3), (2, 1), (3, 1), (4, 1), (5, 1), (6, 2), (7, 1), (8, 1), (9, 1), (10, 1), (11, 1), (12, 1), (13, 1), (14, 1), (15, 1), (16, 1), (17, 1)]]\n",
            "also\n"
          ]
        },
        {
          "output_type": "execute_result",
          "data": {
            "text/plain": [
              "[[('also', 1),\n",
              "  ('can', 3),\n",
              "  ('connect', 1),\n",
              "  ('defin', 1),\n",
              "  ('emergenc', 1),\n",
              "  ('give', 1),\n",
              "  ('health', 2),\n",
              "  ('made', 1),\n",
              "  ('medic', 1),\n",
              "  ('phone', 1),\n",
              "  ('practic', 1),\n",
              "  ('public', 1),\n",
              "  ('shealth', 1),\n",
              "  ('smart', 1),\n",
              "  ('support', 1),\n",
              "  ('technolog', 1),\n",
              "  ('use', 1),\n",
              "  ('wireless', 1)]]"
            ]
          },
          "metadata": {},
          "execution_count": 62
        }
      ]
    },
    {
      "cell_type": "markdown",
      "metadata": {
        "id": "XWhoo_kdpWZ-"
      },
      "source": [
        "LDA \n",
        "\n"
      ]
    },
    {
      "cell_type": "code",
      "metadata": {
        "colab": {
          "base_uri": "https://localhost:8080/"
        },
        "id": "kZxfED_nkK5R",
        "outputId": "7cf1401c-4a71-4d57-9fb0-7c33a327a80e"
      },
      "source": [
        "ldamodel = models.ldamodel.LdaModel(corpus=corpus, id2word = id2word, num_topics = 10, random_state=100, update_every=1, chunksize=100, passes=10, alpha='auto',  per_word_topics=True)\n",
        "from pprint import pprint\n",
        "pprint(ldamodel.print_topics())\n",
        "documentlda = ldamodel[corpus]                                           \n",
        "                                           \n",
        "                                          "
      ],
      "execution_count": 70,
      "outputs": [
        {
          "output_type": "stream",
          "name": "stdout",
          "text": [
            "[(0,\n",
            "  '0.030*\"process\" + 0.027*\"structur\" + 0.026*\"system\" + 0.024*\"research\" + '\n",
            "  '0.020*\"monitor\" + 0.019*\"smart\" + 0.018*\"use\" + 0.018*\"health\" + '\n",
            "  '0.017*\"cost\" + 0.016*\"test\"'),\n",
            " (1,\n",
            "  '0.059*\"system\" + 0.055*\"health\" + 0.048*\"care\" + 0.037*\"smart\" + '\n",
            "  '0.027*\"present\" + 0.027*\"use\" + 0.022*\"paper\" + 0.020*\"inform\" + '\n",
            "  '0.019*\"phone\" + 0.019*\"sensor\"'),\n",
            " (2,\n",
            "  '0.092*\"monitor\" + 0.082*\"sensor\" + 0.057*\"health\" + 0.039*\"smart\" + '\n",
            "  '0.031*\"develop\" + 0.023*\"system\" + 0.021*\"work\" + 0.018*\"use\" + '\n",
            "  '0.018*\"wireless\" + 0.018*\"network\"'),\n",
            " (3,\n",
            "  '0.027*\"health\" + 0.026*\"behavior\" + 0.026*\"can\" + 0.023*\"smart\" + '\n",
            "  '0.019*\"inform\" + 0.019*\"platform\" + 0.018*\"technolog\" + 0.018*\"will\" + '\n",
            "  '0.016*\"use\" + 0.015*\"student\"'),\n",
            " (4,\n",
            "  '0.039*\"person\" + 0.027*\"user\" + 0.026*\"health\" + 0.022*\"access\" + '\n",
            "  '0.021*\"smart\" + 0.021*\"peopl\" + 0.020*\"system\" + 0.019*\"problem\" + '\n",
            "  '0.018*\"time\" + 0.017*\"base\"'),\n",
            " (5,\n",
            "  '0.067*\"home\" + 0.042*\"smart\" + 0.028*\"find\" + 0.024*\"public\" + 0.024*\"need\" '\n",
            "  '+ 0.024*\"technolog\" + 0.024*\"includ\" + 0.021*\"monitor\" + 0.021*\"human\" + '\n",
            "  '0.019*\"health\"'),\n",
            " (6,\n",
            "  '0.033*\"food\" + 0.022*\"record\" + 0.022*\"medic\" + 0.021*\"new\" + 0.019*\"e\" + '\n",
            "  '0.017*\"key\" + 0.014*\"product\" + 0.013*\"way\" + 0.012*\"healthi\" + '\n",
            "  '0.012*\"plastic\"'),\n",
            " (7,\n",
            "  '0.041*\"patient\" + 0.029*\"health\" + 0.021*\"condit\" + 0.019*\"disea\" + '\n",
            "  '0.018*\"live\" + 0.017*\"establish\" + 0.016*\"life\" + 0.015*\"care\" + '\n",
            "  '0.014*\"system\" + 0.013*\"interest\"'),\n",
            " (8,\n",
            "  '0.071*\"card\" + 0.033*\"increa\" + 0.030*\"smart\" + 0.027*\"first\" + 0.018*\"use\" '\n",
            "  '+ 0.017*\"school\" + 0.017*\"level\" + 0.015*\"child\" + 0.014*\"differ\" + '\n",
            "  '0.013*\"field\"'),\n",
            " (9,\n",
            "  '0.056*\"datum\" + 0.028*\"current\" + 0.027*\"make\" + 0.024*\"commun\" + '\n",
            "  '0.022*\"well\" + 0.020*\"learn\" + 0.019*\"assess\" + 0.019*\"technolog\" + '\n",
            "  '0.017*\"set\" + 0.017*\"major\"')]\n"
          ]
        }
      ]
    },
    {
      "cell_type": "markdown",
      "metadata": {
        "id": "gQf9pXFRpiUe"
      },
      "source": [
        "LSA\n"
      ]
    },
    {
      "cell_type": "code",
      "metadata": {
        "colab": {
          "base_uri": "https://localhost:8080/"
        },
        "id": "X4MfnVBDpld6",
        "outputId": "c1304ae7-b163-413f-b400-7d434608f151"
      },
      "source": [
        "lsa_model = models.LsiModel(corpus, num_topics = 10, id2word = id2word)\n",
        "pprint(lsa_model.print_topics(num_topics = 10))"
      ],
      "execution_count": 72,
      "outputs": [
        {
          "output_type": "stream",
          "name": "stdout",
          "text": [
            "[(0,\n",
            "  '-0.461*\"health\" + -0.410*\"smart\" + -0.375*\"system\" + -0.317*\"monitor\" + '\n",
            "  '-0.247*\"sensor\" + -0.228*\"use\" + -0.159*\"can\" + -0.139*\"care\" + '\n",
            "  '-0.128*\"home\" + -0.119*\"develop\"'),\n",
            " (1,\n",
            "  '-0.561*\"system\" + 0.373*\"monitor\" + 0.335*\"smart\" + -0.322*\"food\" + '\n",
            "  '0.197*\"home\" + -0.158*\"develop\" + -0.134*\"can\" + 0.106*\"health\" + '\n",
            "  '-0.102*\"care\" + -0.101*\"know\"'),\n",
            " (2,\n",
            "  '-0.462*\"sensor\" + 0.438*\"card\" + -0.419*\"monitor\" + 0.345*\"smart\" + '\n",
            "  '0.230*\"health\" + 0.164*\"care\" + -0.155*\"detect\" + 0.131*\"patient\" + '\n",
            "  '-0.118*\"network\" + -0.116*\"develop\"'),\n",
            " (3,\n",
            "  '-0.654*\"health\" + 0.468*\"smart\" + -0.306*\"care\" + 0.291*\"card\" + '\n",
            "  '0.211*\"use\" + 0.126*\"sensor\" + 0.090*\"food\" + -0.069*\"o\" + -0.069*\"monitor\" '\n",
            "  '+ 0.066*\"develop\"'),\n",
            " (4,\n",
            "  '-0.472*\"use\" + 0.466*\"system\" + -0.410*\"can\" + -0.237*\"food\" + 0.157*\"home\" '\n",
            "  '+ 0.150*\"monitor\" + 0.103*\"card\" + -0.092*\"phone\" + -0.086*\"also\" + '\n",
            "  '-0.086*\"health\"'),\n",
            " (5,\n",
            "  '-0.486*\"sensor\" + 0.414*\"monitor\" + 0.372*\"food\" + -0.219*\"care\" + '\n",
            "  '0.209*\"home\" + -0.176*\"use\" + 0.106*\"know\" + -0.101*\"flat\" + '\n",
            "  '-0.099*\"detect\" + 0.098*\"common\"'),\n",
            " (6,\n",
            "  '0.579*\"use\" + -0.255*\"sensor\" + 0.228*\"system\" + -0.228*\"food\" + '\n",
            "  '-0.225*\"smart\" + 0.208*\"monitor\" + -0.174*\"person\" + -0.168*\"home\" + '\n",
            "  '0.166*\"patient\" + -0.159*\"can\"'),\n",
            " (7,\n",
            "  '-0.498*\"home\" + 0.252*\"sensor\" + 0.250*\"monitor\" + 0.233*\"card\" + '\n",
            "  '-0.191*\"use\" + 0.163*\"system\" + -0.155*\"care\" + -0.154*\"human\" + '\n",
            "  '-0.149*\"detect\" + -0.137*\"independ\"'),\n",
            " (8,\n",
            "  '0.578*\"card\" + -0.295*\"smart\" + -0.280*\"patient\" + 0.240*\"develop\" + '\n",
            "  '-0.216*\"system\" + -0.168*\"phone\" + 0.142*\"monitor\" + -0.141*\"can\" + '\n",
            "  '-0.140*\"home\" + 0.121*\"human\"'),\n",
            " (9,\n",
            "  '-0.312*\"use\" + 0.281*\"can\" + 0.277*\"technolog\" + 0.265*\"develop\" + '\n",
            "  '-0.237*\"food\" + 0.222*\"inform\" + -0.157*\"home\" + -0.144*\"monitor\" + '\n",
            "  '-0.142*\"card\" + 0.137*\"present\"')]\n"
          ]
        }
      ]
    },
    {
      "cell_type": "code",
      "metadata": {
        "colab": {
          "base_uri": "https://localhost:8080/"
        },
        "id": "YCi7UWW6qn23",
        "outputId": "f5dd5dbe-23aa-4722-c176-77e174358fc2"
      },
      "source": [
        "from gensim.models import CoherenceModel\n",
        "print('Perplexity: ', ldamodel.log_perplexity(corpus))\n",
        "coherencemodel_lda = CoherenceModel(model=ldamodel, texts=lemmatizeddata, dictionary=id2word, coherence='c_v')\n",
        "coherence = coherencemodel_lda.get_coherence()\n",
        "print('Coherence Score: ', coherence)"
      ],
      "execution_count": 75,
      "outputs": [
        {
          "output_type": "stream",
          "name": "stdout",
          "text": [
            "Perplexity:  -7.002350223892332\n",
            "Coherence Score:  0.3564533454298614\n"
          ]
        }
      ]
    },
    {
      "cell_type": "markdown",
      "metadata": {
        "id": "AfpMRCrRwN6Z"
      },
      "source": [
        "# **Question 2: Sentiment Analysis**"
      ]
    },
    {
      "cell_type": "markdown",
      "metadata": {
        "id": "1dCQEbDawWCw"
      },
      "source": [
        "(30 points). Sentiment analysis also known as opinion mining is a sub field within Natural Language Processing (NLP) that builds machine learning algorithms to classify a text according to the sentimental polarities of opinions it contains, e.g., positive, negative, neutral. The purpose of this question is to develop a machine learning classifier for sentiment analysis. Based on the dataset from assignment three, write a python program to implement a sentiment classifier and evaluate its performance. Notice: **80% data for training and 20% data for testing**.  \n",
        "\n",
        "(1) Features used for sentiment classification and explain why you select these features.\n",
        "\n",
        "(2) Select two of the supervised learning algorithm from scikit-learn library: https://scikit-learn.org/stable/supervised_learning.html#supervised-learning, to build a sentiment classifier respectively. \n",
        "\n",
        "(3) Compare the performance over accuracy, precision, recall, and F1 score for the two algorithms you selected. Here is the reference of how to calculate these metrics: https://towardsdatascience.com/accuracy-precision-recall-or-f1-331fb37c5cb9. "
      ]
    },
    {
      "cell_type": "code",
      "metadata": {
        "colab": {
          "base_uri": "https://localhost:8080/",
          "height": 420
        },
        "id": "vATjQNTY8buA",
        "outputId": "c8157b11-9a12-4f50-d626-dc07c7c6c68a"
      },
      "source": [
        "import seaborn as sns\n",
        "print(d['Sentiment'].value_counts())\n",
        "sns.countplot(d['Sentiment'])\n",
        "\n",
        "\n"
      ],
      "execution_count": 82,
      "outputs": [
        {
          "output_type": "stream",
          "name": "stdout",
          "text": [
            "Positive    173\n",
            "Negative    171\n",
            "Neutral     154\n",
            "Name: Sentiment, dtype: int64\n"
          ]
        },
        {
          "output_type": "stream",
          "name": "stderr",
          "text": [
            "/usr/local/lib/python3.7/dist-packages/seaborn/_decorators.py:43: FutureWarning: Pass the following variable as a keyword arg: x. From version 0.12, the only valid positional argument will be `data`, and passing other arguments without an explicit keyword will result in an error or misinterpretation.\n",
            "  FutureWarning\n"
          ]
        },
        {
          "output_type": "execute_result",
          "data": {
            "text/plain": [
              "<matplotlib.axes._subplots.AxesSubplot at 0x7f58e1952bd0>"
            ]
          },
          "metadata": {},
          "execution_count": 82
        },
        {
          "output_type": "display_data",
          "data": {
            "image/png": "[encoded data removed]",
            "text/plain": [
              "<Figure size 432x288 with 1 Axes>"
            ]
          },
          "metadata": {
            "needs_background": "light"
          }
        }
      ]
    },
    {
      "cell_type": "code",
      "metadata": {
        "colab": {
          "base_uri": "https://localhost:8080/"
        },
        "id": "AA9KNXMN6Hg4",
        "outputId": "c846f7b2-e190-45bd-ac1d-a9bfb4da8e6b"
      },
      "source": [
        "import nltk\n",
        "nltk.download('stopwords')\n"
      ],
      "execution_count": 85,
      "outputs": [
        {
          "output_type": "stream",
          "name": "stdout",
          "text": [
            "[nltk_data] Downloading package stopwords to /root/nltk_data...\n",
            "[nltk_data]   Package stopwords is already up-to-date!\n"
          ]
        },
        {
          "output_type": "execute_result",
          "data": {
            "text/plain": [
              "True"
            ]
          },
          "metadata": {},
          "execution_count": 85
        }
      ]
    },
    {
      "cell_type": "code",
      "metadata": {
        "id": "FpwzRYL96aGR"
      },
      "source": [
        "from nltk.corpus import stopwords\n",
        "from textblob import TextBlob\n",
        "d['Cleandata'] = d['500 abstracts'].apply(lambda i: \" \".join(i.lower() for i in i.split()))\n",
        "d['Cleandata'] = d['Cleandata'].str.replace('[^\\w\\s]','')\n",
        "st = stopwords.words('english')\n",
        "d['Cleandata'] = d['Cleandata'].apply(lambda i: \" \".join(i for i in i.split() if i not in st))"
      ],
      "execution_count": 87,
      "outputs": []
    },
    {
      "cell_type": "markdown",
      "metadata": {
        "id": "W6qrPRKo73D-"
      },
      "source": [
        "Feature selection\n"
      ]
    },
    {
      "cell_type": "code",
      "metadata": {
        "id": "fR3vTvKb7-Do"
      },
      "source": [
        "from sklearn.preprocessing import LabelEncoder\n",
        "from sklearn.feature_extraction.text import TfidfVectorizer\n",
        "Tf_idf = TfidfVectorizer(ngram_range=(1,2), max_features=1000)\n",
        "Tf_idf.fit(d['500 abstracts'])\n",
        "values1 = Tf_idf.transform(d['500 abstracts'])\n",
        "encoder = LabelEncoder()\n",
        "values2 = encoder.fit_transform(d['Sentiment'])"
      ],
      "execution_count": 88,
      "outputs": []
    },
    {
      "cell_type": "markdown",
      "metadata": {
        "id": "e5by4-7pBfzT"
      },
      "source": [
        "I used the TF IDF vectorizer to improve the performance of the model. TF IDF is a simple algorithm and an efficient one. That returns the documents that are very relevant to the given queries and produce similar representations by reducing commputational complexity. Feature selection is used to reduce the number of input variables in the process of developing a predictive model. It also reduces the model overfitting and increases the precision of the model."
      ]
    },
    {
      "cell_type": "markdown",
      "metadata": {
        "id": "2kqiFKEI9Oen"
      },
      "source": [
        "Splitting training and test data"
      ]
    },
    {
      "cell_type": "code",
      "metadata": {
        "id": "Q79jj4kC9KkM"
      },
      "source": [
        "from sklearn import model_selection\n",
        "train1, test1, train2, test2 = model_selection.train_test_split(values1, values2, test_size=0.2)"
      ],
      "execution_count": 89,
      "outputs": []
    },
    {
      "cell_type": "markdown",
      "metadata": {
        "id": "4tEnnmR_9gDb"
      },
      "source": [
        "Naive Bayes"
      ]
    },
    {
      "cell_type": "code",
      "metadata": {
        "colab": {
          "base_uri": "https://localhost:8080/"
        },
        "id": "YLHbFz_U9oud",
        "outputId": "eab0b87c-e742-467a-eb23-51f8f4ce2e38"
      },
      "source": [
        "from sklearn.metrics import accuracy_score\n",
        "from sklearn.metrics import classification_report\n",
        "from sklearn import naive_bayes\n",
        "Naivebayes = naive_bayes.MultinomialNB()\n",
        "Naivebayes.fit(train1, train2)\n",
        "predicted = Naivebayes.predict(test1)\n",
        "print(\"Accuracy score is {0}\".format(accuracy_score(test2, predicted)))\n",
        "result = classification_report(test2, predicted, output_dict=True)\n",
        "print(result)"
      ],
      "execution_count": 104,
      "outputs": [
        {
          "output_type": "stream",
          "name": "stdout",
          "text": [
            "Accuracy score is 0.3\n",
            "{'0': {'precision': 0.35714285714285715, 'recall': 0.25, 'f1-score': 0.2941176470588235, 'support': 40}, '1': {'precision': 0.26666666666666666, 'recall': 0.13793103448275862, 'f1-score': 0.18181818181818182, 'support': 29}, '2': {'precision': 0.2807017543859649, 'recall': 0.5161290322580645, 'f1-score': 0.3636363636363636, 'support': 31}, 'accuracy': 0.3, 'macro avg': {'precision': 0.3015037593984962, 'recall': 0.3013533555802744, 'f1-score': 0.2798573975044563, 'support': 100}, 'weighted avg': {'precision': 0.3072080200501253, 'recall': 0.3, 'f1-score': 0.2831016042780748, 'support': 100}}\n"
          ]
        }
      ]
    },
    {
      "cell_type": "markdown",
      "metadata": {
        "id": "FMyF5CZSAAVG"
      },
      "source": [
        "SVM\n"
      ]
    },
    {
      "cell_type": "code",
      "metadata": {
        "colab": {
          "base_uri": "https://localhost:8080/"
        },
        "id": "64U-0tJ5ACJi",
        "outputId": "af1ed13d-8c62-4670-a098-054ba0c15391"
      },
      "source": [
        "from sklearn import svm\n",
        "svm1 = svm.SVC(kernel='linear')\n",
        "svm1.fit(train1, train2)\n",
        "predict = svm1.predict(test1)\n",
        "print(\"Accuracy score is {0}\".format(accuracy_score(test2, predict)))\n",
        "result = classification_report(test2, predict, output_dict=True)\n",
        "result"
      ],
      "execution_count": 159,
      "outputs": [
        {
          "output_type": "stream",
          "name": "stdout",
          "text": [
            "Accuracy score is 0.27\n"
          ]
        },
        {
          "output_type": "execute_result",
          "data": {
            "text/plain": [
              "{'0': {'f1-score': 0.2121212121212121,\n",
              "  'precision': 0.2692307692307692,\n",
              "  'recall': 0.175,\n",
              "  'support': 40},\n",
              " '1': {'f1-score': 0.20408163265306123,\n",
              "  'precision': 0.25,\n",
              "  'recall': 0.1724137931034483,\n",
              "  'support': 29},\n",
              " '2': {'f1-score': 0.35294117647058826,\n",
              "  'precision': 0.2777777777777778,\n",
              "  'recall': 0.4838709677419355,\n",
              "  'support': 31},\n",
              " 'accuracy': 0.27,\n",
              " 'macro avg': {'f1-score': 0.25638134041495386,\n",
              "  'precision': 0.26566951566951563,\n",
              "  'recall': 0.27709492028179455,\n",
              "  'support': 100},\n",
              " 'weighted avg': {'f1-score': 0.25344392302375496,\n",
              "  'precision': 0.2663034188034188,\n",
              "  'recall': 0.27,\n",
              "  'support': 100}}"
            ]
          },
          "metadata": {},
          "execution_count": 159
        }
      ]
    },
    {
      "cell_type": "markdown",
      "metadata": {
        "id": "E5mmYIfN8eYV"
      },
      "source": [
        "# **Question 3: House price prediction**"
      ]
    },
    {
      "cell_type": "markdown",
      "metadata": {
        "id": "hsi2y4z88ngX"
      },
      "source": [
        "(40 points). You are required to build a **regression** model to predict the house price with 79 explanatory variables describing (almost) every aspect of residential homes. The purpose of this question is to practice regression analysis, an supervised learning model. The training data, testing data, and data description files can be download here: https://github.com/unt-iialab/info5731_spring2021/blob/main/assignment/assignment4-question3-data.zip. Here is an axample for implementation: https://towardsdatascience.com/linear-regression-in-python-predict-the-bay-areas-home-price-5c91c8378878. \n"
      ]
    },
    {
      "cell_type": "code",
      "metadata": {
        "colab": {
          "base_uri": "https://localhost:8080/",
          "height": 319
        },
        "id": "XfvMKJjIXS5G",
        "outputId": "68f95a54-bd24-4d4d-ae18-e10c9775d7af"
      },
      "source": [
        "import csv\n",
        "import pandas as pd\n",
        "\n",
        "train = pd.read_csv(\"train.csv\")\n",
        "test = pd.read_csv(\"test.csv\")\n",
        "train.describe()\n"
      ],
      "execution_count": 113,
      "outputs": [
        {
          "output_type": "execute_result",
          "data": {
            "text/html": [
              "<div>\n",
              "<style scoped>\n",
              "    .dataframe tbody tr th:only-of-type {\n",
              "        vertical-align: middle;\n",
              "    }\n",
              "\n",
              "    .dataframe tbody tr th {\n",
              "        vertical-align: top;\n",
              "    }\n",
              "\n",
              "    .dataframe thead th {\n",
              "        text-align: right;\n",
              "    }\n",
              "</style>\n",
              "<table border=\"1\" class=\"dataframe\">\n",
              "  <thead>\n",
              "    <tr style=\"text-align: right;\">\n",
              "      <th></th>\n",
              "      <th>Id</th>\n",
              "      <th>MSSubClass</th>\n",
              "      <th>LotFrontage</th>\n",
              "      <th>LotArea</th>\n",
              "      <th>OverallQual</th>\n",
              "      <th>OverallCond</th>\n",
              "      <th>YearBuilt</th>\n",
              "      <th>YearRemodAdd</th>\n",
              "      <th>MasVnrArea</th>\n",
              "      <th>BsmtFinSF1</th>\n",
              "      <th>BsmtFinSF2</th>\n",
              "      <th>BsmtUnfSF</th>\n",
              "      <th>TotalBsmtSF</th>\n",
              "      <th>1stFlrSF</th>\n",
              "      <th>2ndFlrSF</th>\n",
              "      <th>LowQualFinSF</th>\n",
              "      <th>GrLivArea</th>\n",
              "      <th>BsmtFullBath</th>\n",
              "      <th>BsmtHalfBath</th>\n",
              "      <th>FullBath</th>\n",
              "      <th>HalfBath</th>\n",
              "      <th>BedroomAbvGr</th>\n",
              "      <th>KitchenAbvGr</th>\n",
              "      <th>TotRmsAbvGrd</th>\n",
              "      <th>Fireplaces</th>\n",
              "      <th>GarageYrBlt</th>\n",
              "      <th>GarageCars</th>\n",
              "      <th>GarageArea</th>\n",
              "      <th>WoodDeckSF</th>\n",
              "      <th>OpenPorchSF</th>\n",
              "      <th>EnclosedPorch</th>\n",
              "      <th>3SsnPorch</th>\n",
              "      <th>ScreenPorch</th>\n",
              "      <th>PoolArea</th>\n",
              "      <th>MiscVal</th>\n",
              "      <th>MoSold</th>\n",
              "      <th>YrSold</th>\n",
              "      <th>SalePrice</th>\n",
              "    </tr>\n",
              "  </thead>\n",
              "  <tbody>\n",
              "    <tr>\n",
              "      <th>count</th>\n",
              "      <td>1460.000000</td>\n",
              "      <td>1460.000000</td>\n",
              "      <td>1201.000000</td>\n",
              "      <td>1460.000000</td>\n",
              "      <td>1460.000000</td>\n",
              "      <td>1460.000000</td>\n",
              "      <td>1460.000000</td>\n",
              "      <td>1460.000000</td>\n",
              "      <td>1452.000000</td>\n",
              "      <td>1460.000000</td>\n",
              "      <td>1460.000000</td>\n",
              "      <td>1460.000000</td>\n",
              "      <td>1460.000000</td>\n",
              "      <td>1460.000000</td>\n",
              "      <td>1460.000000</td>\n",
              "      <td>1460.000000</td>\n",
              "      <td>1460.000000</td>\n",
              "      <td>1460.000000</td>\n",
              "      <td>1460.000000</td>\n",
              "      <td>1460.000000</td>\n",
              "      <td>1460.000000</td>\n",
              "      <td>1460.000000</td>\n",
              "      <td>1460.000000</td>\n",
              "      <td>1460.000000</td>\n",
              "      <td>1460.000000</td>\n",
              "      <td>1379.000000</td>\n",
              "      <td>1460.000000</td>\n",
              "      <td>1460.000000</td>\n",
              "      <td>1460.000000</td>\n",
              "      <td>1460.000000</td>\n",
              "      <td>1460.000000</td>\n",
              "      <td>1460.000000</td>\n",
              "      <td>1460.000000</td>\n",
              "      <td>1460.000000</td>\n",
              "      <td>1460.000000</td>\n",
              "      <td>1460.000000</td>\n",
              "      <td>1460.000000</td>\n",
              "      <td>1460.000000</td>\n",
              "    </tr>\n",
              "    <tr>\n",
              "      <th>mean</th>\n",
              "      <td>730.500000</td>\n",
              "      <td>56.897260</td>\n",
              "      <td>70.049958</td>\n",
              "      <td>10516.828082</td>\n",
              "      <td>6.099315</td>\n",
              "      <td>5.575342</td>\n",
              "      <td>1971.267808</td>\n",
              "      <td>1984.865753</td>\n",
              "      <td>103.685262</td>\n",
              "      <td>443.639726</td>\n",
              "      <td>46.549315</td>\n",
              "      <td>567.240411</td>\n",
              "      <td>1057.429452</td>\n",
              "      <td>1162.626712</td>\n",
              "      <td>346.992466</td>\n",
              "      <td>5.844521</td>\n",
              "      <td>1515.463699</td>\n",
              "      <td>0.425342</td>\n",
              "      <td>0.057534</td>\n",
              "      <td>1.565068</td>\n",
              "      <td>0.382877</td>\n",
              "      <td>2.866438</td>\n",
              "      <td>1.046575</td>\n",
              "      <td>6.517808</td>\n",
              "      <td>0.613014</td>\n",
              "      <td>1978.506164</td>\n",
              "      <td>1.767123</td>\n",
              "      <td>472.980137</td>\n",
              "      <td>94.244521</td>\n",
              "      <td>46.660274</td>\n",
              "      <td>21.954110</td>\n",
              "      <td>3.409589</td>\n",
              "      <td>15.060959</td>\n",
              "      <td>2.758904</td>\n",
              "      <td>43.489041</td>\n",
              "      <td>6.321918</td>\n",
              "      <td>2007.815753</td>\n",
              "      <td>180921.195890</td>\n",
              "    </tr>\n",
              "    <tr>\n",
              "      <th>std</th>\n",
              "      <td>421.610009</td>\n",
              "      <td>42.300571</td>\n",
              "      <td>24.284752</td>\n",
              "      <td>9981.264932</td>\n",
              "      <td>1.382997</td>\n",
              "      <td>1.112799</td>\n",
              "      <td>30.202904</td>\n",
              "      <td>20.645407</td>\n",
              "      <td>181.066207</td>\n",
              "      <td>456.098091</td>\n",
              "      <td>161.319273</td>\n",
              "      <td>441.866955</td>\n",
              "      <td>438.705324</td>\n",
              "      <td>386.587738</td>\n",
              "      <td>436.528436</td>\n",
              "      <td>48.623081</td>\n",
              "      <td>525.480383</td>\n",
              "      <td>0.518911</td>\n",
              "      <td>0.238753</td>\n",
              "      <td>0.550916</td>\n",
              "      <td>0.502885</td>\n",
              "      <td>0.815778</td>\n",
              "      <td>0.220338</td>\n",
              "      <td>1.625393</td>\n",
              "      <td>0.644666</td>\n",
              "      <td>24.689725</td>\n",
              "      <td>0.747315</td>\n",
              "      <td>213.804841</td>\n",
              "      <td>125.338794</td>\n",
              "      <td>66.256028</td>\n",
              "      <td>61.119149</td>\n",
              "      <td>29.317331</td>\n",
              "      <td>55.757415</td>\n",
              "      <td>40.177307</td>\n",
              "      <td>496.123024</td>\n",
              "      <td>2.703626</td>\n",
              "      <td>1.328095</td>\n",
              "      <td>79442.502883</td>\n",
              "    </tr>\n",
              "    <tr>\n",
              "      <th>min</th>\n",
              "      <td>1.000000</td>\n",
              "      <td>20.000000</td>\n",
              "      <td>21.000000</td>\n",
              "      <td>1300.000000</td>\n",
              "      <td>1.000000</td>\n",
              "      <td>1.000000</td>\n",
              "      <td>1872.000000</td>\n",
              "      <td>1950.000000</td>\n",
              "      <td>0.000000</td>\n",
              "      <td>0.000000</td>\n",
              "      <td>0.000000</td>\n",
              "      <td>0.000000</td>\n",
              "      <td>0.000000</td>\n",
              "      <td>334.000000</td>\n",
              "      <td>0.000000</td>\n",
              "      <td>0.000000</td>\n",
              "      <td>334.000000</td>\n",
              "      <td>0.000000</td>\n",
              "      <td>0.000000</td>\n",
              "      <td>0.000000</td>\n",
              "      <td>0.000000</td>\n",
              "      <td>0.000000</td>\n",
              "      <td>0.000000</td>\n",
              "      <td>2.000000</td>\n",
              "      <td>0.000000</td>\n",
              "      <td>1900.000000</td>\n",
              "      <td>0.000000</td>\n",
              "      <td>0.000000</td>\n",
              "      <td>0.000000</td>\n",
              "      <td>0.000000</td>\n",
              "      <td>0.000000</td>\n",
              "      <td>0.000000</td>\n",
              "      <td>0.000000</td>\n",
              "      <td>0.000000</td>\n",
              "      <td>0.000000</td>\n",
              "      <td>1.000000</td>\n",
              "      <td>2006.000000</td>\n",
              "      <td>34900.000000</td>\n",
              "    </tr>\n",
              "    <tr>\n",
              "      <th>25%</th>\n",
              "      <td>365.750000</td>\n",
              "      <td>20.000000</td>\n",
              "      <td>59.000000</td>\n",
              "      <td>7553.500000</td>\n",
              "      <td>5.000000</td>\n",
              "      <td>5.000000</td>\n",
              "      <td>1954.000000</td>\n",
              "      <td>1967.000000</td>\n",
              "      <td>0.000000</td>\n",
              "      <td>0.000000</td>\n",
              "      <td>0.000000</td>\n",
              "      <td>223.000000</td>\n",
              "      <td>795.750000</td>\n",
              "      <td>882.000000</td>\n",
              "      <td>0.000000</td>\n",
              "      <td>0.000000</td>\n",
              "      <td>1129.500000</td>\n",
              "      <td>0.000000</td>\n",
              "      <td>0.000000</td>\n",
              "      <td>1.000000</td>\n",
              "      <td>0.000000</td>\n",
              "      <td>2.000000</td>\n",
              "      <td>1.000000</td>\n",
              "      <td>5.000000</td>\n",
              "      <td>0.000000</td>\n",
              "      <td>1961.000000</td>\n",
              "      <td>1.000000</td>\n",
              "      <td>334.500000</td>\n",
              "      <td>0.000000</td>\n",
              "      <td>0.000000</td>\n",
              "      <td>0.000000</td>\n",
              "      <td>0.000000</td>\n",
              "      <td>0.000000</td>\n",
              "      <td>0.000000</td>\n",
              "      <td>0.000000</td>\n",
              "      <td>5.000000</td>\n",
              "      <td>2007.000000</td>\n",
              "      <td>129975.000000</td>\n",
              "    </tr>\n",
              "    <tr>\n",
              "      <th>50%</th>\n",
              "      <td>730.500000</td>\n",
              "      <td>50.000000</td>\n",
              "      <td>69.000000</td>\n",
              "      <td>9478.500000</td>\n",
              "      <td>6.000000</td>\n",
              "      <td>5.000000</td>\n",
              "      <td>1973.000000</td>\n",
              "      <td>1994.000000</td>\n",
              "      <td>0.000000</td>\n",
              "      <td>383.500000</td>\n",
              "      <td>0.000000</td>\n",
              "      <td>477.500000</td>\n",
              "      <td>991.500000</td>\n",
              "      <td>1087.000000</td>\n",
              "      <td>0.000000</td>\n",
              "      <td>0.000000</td>\n",
              "      <td>1464.000000</td>\n",
              "      <td>0.000000</td>\n",
              "      <td>0.000000</td>\n",
              "      <td>2.000000</td>\n",
              "      <td>0.000000</td>\n",
              "      <td>3.000000</td>\n",
              "      <td>1.000000</td>\n",
              "      <td>6.000000</td>\n",
              "      <td>1.000000</td>\n",
              "      <td>1980.000000</td>\n",
              "      <td>2.000000</td>\n",
              "      <td>480.000000</td>\n",
              "      <td>0.000000</td>\n",
              "      <td>25.000000</td>\n",
              "      <td>0.000000</td>\n",
              "      <td>0.000000</td>\n",
              "      <td>0.000000</td>\n",
              "      <td>0.000000</td>\n",
              "      <td>0.000000</td>\n",
              "      <td>6.000000</td>\n",
              "      <td>2008.000000</td>\n",
              "      <td>163000.000000</td>\n",
              "    </tr>\n",
              "    <tr>\n",
              "      <th>75%</th>\n",
              "      <td>1095.250000</td>\n",
              "      <td>70.000000</td>\n",
              "      <td>80.000000</td>\n",
              "      <td>11601.500000</td>\n",
              "      <td>7.000000</td>\n",
              "      <td>6.000000</td>\n",
              "      <td>2000.000000</td>\n",
              "      <td>2004.000000</td>\n",
              "      <td>166.000000</td>\n",
              "      <td>712.250000</td>\n",
              "      <td>0.000000</td>\n",
              "      <td>808.000000</td>\n",
              "      <td>1298.250000</td>\n",
              "      <td>1391.250000</td>\n",
              "      <td>728.000000</td>\n",
              "      <td>0.000000</td>\n",
              "      <td>1776.750000</td>\n",
              "      <td>1.000000</td>\n",
              "      <td>0.000000</td>\n",
              "      <td>2.000000</td>\n",
              "      <td>1.000000</td>\n",
              "      <td>3.000000</td>\n",
              "      <td>1.000000</td>\n",
              "      <td>7.000000</td>\n",
              "      <td>1.000000</td>\n",
              "      <td>2002.000000</td>\n",
              "      <td>2.000000</td>\n",
              "      <td>576.000000</td>\n",
              "      <td>168.000000</td>\n",
              "      <td>68.000000</td>\n",
              "      <td>0.000000</td>\n",
              "      <td>0.000000</td>\n",
              "      <td>0.000000</td>\n",
              "      <td>0.000000</td>\n",
              "      <td>0.000000</td>\n",
              "      <td>8.000000</td>\n",
              "      <td>2009.000000</td>\n",
              "      <td>214000.000000</td>\n",
              "    </tr>\n",
              "    <tr>\n",
              "      <th>max</th>\n",
              "      <td>1460.000000</td>\n",
              "      <td>190.000000</td>\n",
              "      <td>313.000000</td>\n",
              "      <td>215245.000000</td>\n",
              "      <td>10.000000</td>\n",
              "      <td>9.000000</td>\n",
              "      <td>2010.000000</td>\n",
              "      <td>2010.000000</td>\n",
              "      <td>1600.000000</td>\n",
              "      <td>5644.000000</td>\n",
              "      <td>1474.000000</td>\n",
              "      <td>2336.000000</td>\n",
              "      <td>6110.000000</td>\n",
              "      <td>4692.000000</td>\n",
              "      <td>2065.000000</td>\n",
              "      <td>572.000000</td>\n",
              "      <td>5642.000000</td>\n",
              "      <td>3.000000</td>\n",
              "      <td>2.000000</td>\n",
              "      <td>3.000000</td>\n",
              "      <td>2.000000</td>\n",
              "      <td>8.000000</td>\n",
              "      <td>3.000000</td>\n",
              "      <td>14.000000</td>\n",
              "      <td>3.000000</td>\n",
              "      <td>2010.000000</td>\n",
              "      <td>4.000000</td>\n",
              "      <td>1418.000000</td>\n",
              "      <td>857.000000</td>\n",
              "      <td>547.000000</td>\n",
              "      <td>552.000000</td>\n",
              "      <td>508.000000</td>\n",
              "      <td>480.000000</td>\n",
              "      <td>738.000000</td>\n",
              "      <td>15500.000000</td>\n",
              "      <td>12.000000</td>\n",
              "      <td>2010.000000</td>\n",
              "      <td>755000.000000</td>\n",
              "    </tr>\n",
              "  </tbody>\n",
              "</table>\n",
              "</div>"
            ],
            "text/plain": [
              "                Id   MSSubClass  ...       YrSold      SalePrice\n",
              "count  1460.000000  1460.000000  ...  1460.000000    1460.000000\n",
              "mean    730.500000    56.897260  ...  2007.815753  180921.195890\n",
              "std     421.610009    42.300571  ...     1.328095   79442.502883\n",
              "min       1.000000    20.000000  ...  2006.000000   34900.000000\n",
              "25%     365.750000    20.000000  ...  2007.000000  129975.000000\n",
              "50%     730.500000    50.000000  ...  2008.000000  163000.000000\n",
              "75%    1095.250000    70.000000  ...  2009.000000  214000.000000\n",
              "max    1460.000000   190.000000  ...  2010.000000  755000.000000\n",
              "\n",
              "[8 rows x 38 columns]"
            ]
          },
          "metadata": {},
          "execution_count": 113
        }
      ]
    },
    {
      "cell_type": "code",
      "metadata": {
        "colab": {
          "base_uri": "https://localhost:8080/"
        },
        "id": "M746DUKeHQSI",
        "outputId": "7dd0f656-7463-4edf-9324-1ee6ca4db1e8"
      },
      "source": [
        "print(train.isnull().sum())\n",
        "print(test.isnull().sum())\n",
        "#checking null values"
      ],
      "execution_count": 121,
      "outputs": [
        {
          "output_type": "stream",
          "name": "stdout",
          "text": [
            "Id                 0\n",
            "MSSubClass         0\n",
            "MSZoning           0\n",
            "LotFrontage      259\n",
            "LotArea            0\n",
            "                ... \n",
            "MoSold             0\n",
            "YrSold             0\n",
            "SaleType           0\n",
            "SaleCondition      0\n",
            "SalePrice          0\n",
            "Length: 81, dtype: int64\n",
            "Id                 0\n",
            "MSSubClass         0\n",
            "MSZoning           4\n",
            "LotFrontage      227\n",
            "LotArea            0\n",
            "                ... \n",
            "MiscVal            0\n",
            "MoSold             0\n",
            "YrSold             0\n",
            "SaleType           1\n",
            "SaleCondition      0\n",
            "Length: 80, dtype: int64\n"
          ]
        }
      ]
    },
    {
      "cell_type": "code",
      "metadata": {
        "colab": {
          "base_uri": "https://localhost:8080/",
          "height": 878
        },
        "id": "ZoXl-68JH4-m",
        "outputId": "c07e5c81-69d5-433b-89f4-75eb4dd2a6f3"
      },
      "source": [
        "%matplotlib inline\n",
        "import matplotlib.pyplot as plt\n",
        "train.hist(bins=50, figsize=(20,15))\n",
        "plt.savefig(\"attribute_histogram_plots\")\n",
        "plt.show()"
      ],
      "execution_count": 122,
      "outputs": [
        {
          "output_type": "display_data",
          "data": {
            "image/png": "[encoded data removed]",
            "text/plain": [
              "<Figure size 1440x1080 with 42 Axes>"
            ]
          },
          "metadata": {
            "needs_background": "light"
          }
        }
      ]
    },
    {
      "cell_type": "code",
      "metadata": {
        "colab": {
          "base_uri": "https://localhost:8080/"
        },
        "id": "5eRP0ou9JDIe",
        "outputId": "2024dfd6-a953-4c23-dcd7-ac34ea2ef084"
      },
      "source": [
        "corr_matrix = train_data.corr()\n",
        "corr_matrix[\"SalePrice\"].sort_values(ascending=False)"
      ],
      "execution_count": 129,
      "outputs": [
        {
          "output_type": "execute_result",
          "data": {
            "text/plain": [
              "SalePrice        1.000000\n",
              "OverallQual      0.790982\n",
              "GrLivArea        0.708624\n",
              "GarageCars       0.640409\n",
              "GarageArea       0.623431\n",
              "TotalBsmtSF      0.613581\n",
              "1stFlrSF         0.605852\n",
              "FullBath         0.560664\n",
              "TotRmsAbvGrd     0.533723\n",
              "YearBuilt        0.522897\n",
              "YearRemodAdd     0.507101\n",
              "GarageYrBlt      0.486362\n",
              "MasVnrArea       0.477493\n",
              "Fireplaces       0.466929\n",
              "BsmtFinSF1       0.386420\n",
              "LotFrontage      0.351799\n",
              "WoodDeckSF       0.324413\n",
              "2ndFlrSF         0.319334\n",
              "OpenPorchSF      0.315856\n",
              "HalfBath         0.284108\n",
              "LotArea          0.263843\n",
              "BsmtFullBath     0.227122\n",
              "BsmtUnfSF        0.214479\n",
              "BedroomAbvGr     0.168213\n",
              "ScreenPorch      0.111447\n",
              "PoolArea         0.092404\n",
              "MoSold           0.046432\n",
              "3SsnPorch        0.044584\n",
              "BsmtFinSF2      -0.011378\n",
              "BsmtHalfBath    -0.016844\n",
              "MiscVal         -0.021190\n",
              "Id              -0.021917\n",
              "LowQualFinSF    -0.025606\n",
              "YrSold          -0.028923\n",
              "OverallCond     -0.077856\n",
              "MSSubClass      -0.084284\n",
              "EnclosedPorch   -0.128578\n",
              "KitchenAbvGr    -0.135907\n",
              "Name: SalePrice, dtype: float64"
            ]
          },
          "metadata": {},
          "execution_count": 129
        }
      ]
    },
    {
      "cell_type": "code",
      "metadata": {
        "colab": {
          "base_uri": "https://localhost:8080/",
          "height": 296
        },
        "id": "KHXlnz8GJsKc",
        "outputId": "e5e11af1-f79b-4696-fe7a-d3e9090a7146"
      },
      "source": [
        "train.plot(kind=\"scatter\", x=\"OverallQual\", y=\"SalePrice\", alpha=1.0)"
      ],
      "execution_count": 134,
      "outputs": [
        {
          "output_type": "execute_result",
          "data": {
            "text/plain": [
              "<matplotlib.axes._subplots.AxesSubplot at 0x7f58d3e2d690>"
            ]
          },
          "metadata": {},
          "execution_count": 134
        },
        {
          "output_type": "display_data",
          "data": {
            "image/png": "[encoded data removed]",
            "text/plain": [
              "<Figure size 432x288 with 1 Axes>"
            ]
          },
          "metadata": {
            "needs_background": "light"
          }
        }
      ]
    },
    {
      "cell_type": "code",
      "metadata": {
        "colab": {
          "base_uri": "https://localhost:8080/",
          "height": 296
        },
        "id": "P-tPjP4NKAlR",
        "outputId": "1cd8cfa1-b9b6-4845-c226-b924fe456970"
      },
      "source": [
        "train.plot(kind=\"scatter\", x=\"GrLivArea\", y=\"SalePrice\", alpha=1.0)\n"
      ],
      "execution_count": 135,
      "outputs": [
        {
          "output_type": "execute_result",
          "data": {
            "text/plain": [
              "<matplotlib.axes._subplots.AxesSubplot at 0x7f58d3e5d950>"
            ]
          },
          "metadata": {},
          "execution_count": 135
        },
        {
          "output_type": "display_data",
          "data": {
            "image/png": "[encoded data removed]",
            "text/plain": [
              "<Figure size 432x288 with 1 Axes>"
            ]
          },
          "metadata": {
            "needs_background": "light"
          }
        }
      ]
    },
    {
      "cell_type": "code",
      "metadata": {
        "colab": {
          "base_uri": "https://localhost:8080/",
          "height": 296
        },
        "id": "9697yA51KeyJ",
        "outputId": "19a55f7d-d775-4d93-fa21-6b920c98b718"
      },
      "source": [
        "train.plot(kind=\"scatter\", x=\"GarageCars\", y=\"SalePrice\", alpha=1.0)"
      ],
      "execution_count": 136,
      "outputs": [
        {
          "output_type": "execute_result",
          "data": {
            "text/plain": [
              "<matplotlib.axes._subplots.AxesSubplot at 0x7f58d4782610>"
            ]
          },
          "metadata": {},
          "execution_count": 136
        },
        {
          "output_type": "display_data",
          "data": {
            "image/png": "[encoded data removed]",
            "text/plain": [
              "<Figure size 432x288 with 1 Axes>"
            ]
          },
          "metadata": {
            "needs_background": "light"
          }
        }
      ]
    },
    {
      "cell_type": "code",
      "metadata": {
        "colab": {
          "base_uri": "https://localhost:8080/",
          "height": 282
        },
        "id": "wi9IZ_-5KxpB",
        "outputId": "8f1903e5-e04c-4fea-e9dd-2b9b44c88fd4"
      },
      "source": [
        "train.boxplot(column=['OverallQual', 'GrLivArea', 'GarageCars', 'GarageArea'])"
      ],
      "execution_count": 137,
      "outputs": [
        {
          "output_type": "execute_result",
          "data": {
            "text/plain": [
              "<matplotlib.axes._subplots.AxesSubplot at 0x7f58d45a74d0>"
            ]
          },
          "metadata": {},
          "execution_count": 137
        },
        {
          "output_type": "display_data",
          "data": {
            "image/png": "[encoded data removed]",
            "text/plain": [
              "<Figure size 432x288 with 1 Axes>"
            ]
          },
          "metadata": {
            "needs_background": "light"
          }
        }
      ]
    },
    {
      "cell_type": "code",
      "metadata": {
        "colab": {
          "base_uri": "https://localhost:8080/",
          "height": 282
        },
        "id": "nYB27-3dK-ni",
        "outputId": "a8985e66-032b-4e75-c67a-4072d0659252"
      },
      "source": [
        "train.boxplot(column=['TotalBsmtSF', '1stFlrSF', 'FullBath', 'SalePrice'])"
      ],
      "execution_count": 139,
      "outputs": [
        {
          "output_type": "execute_result",
          "data": {
            "text/plain": [
              "<matplotlib.axes._subplots.AxesSubplot at 0x7f58d39a5b50>"
            ]
          },
          "metadata": {},
          "execution_count": 139
        },
        {
          "output_type": "display_data",
          "data": {
            "image/png": "[encoded data removed]",
            "text/plain": [
              "<Figure size 432x288 with 1 Axes>"
            ]
          },
          "metadata": {
            "needs_background": "light"
          }
        }
      ]
    },
    {
      "cell_type": "code",
      "metadata": {
        "colab": {
          "base_uri": "https://localhost:8080/"
        },
        "id": "nfHxuEYZLS0U",
        "outputId": "1b202603-b507-4898-d7a7-865de4de0dca"
      },
      "source": [
        "train.fillna(train.mean(), inplace = True)\n",
        "test.fillna(test.mean(), inplace = True)\n",
        "print(train.isnull().sum())\n",
        "print(test.isnull().sum())"
      ],
      "execution_count": 142,
      "outputs": [
        {
          "output_type": "stream",
          "name": "stdout",
          "text": [
            "Id               0\n",
            "MSSubClass       0\n",
            "MSZoning         0\n",
            "LotFrontage      0\n",
            "LotArea          0\n",
            "                ..\n",
            "MoSold           0\n",
            "YrSold           0\n",
            "SaleType         0\n",
            "SaleCondition    0\n",
            "SalePrice        0\n",
            "Length: 81, dtype: int64\n",
            "Id               0\n",
            "MSSubClass       0\n",
            "MSZoning         4\n",
            "LotFrontage      0\n",
            "LotArea          0\n",
            "                ..\n",
            "MiscVal          0\n",
            "MoSold           0\n",
            "YrSold           0\n",
            "SaleType         1\n",
            "SaleCondition    0\n",
            "Length: 80, dtype: int64\n"
          ]
        }
      ]
    },
    {
      "cell_type": "markdown",
      "metadata": {
        "id": "0XK1XYyBMRgA"
      },
      "source": [
        "Encoding data\n"
      ]
    },
    {
      "cell_type": "code",
      "metadata": {
        "id": "frWfXCo3MT_O"
      },
      "source": [
        "from sklearn.preprocessing import LabelEncoder\n",
        "columns = ('GarageCond', 'LandContour', 'RoofStyle', 'RoofMatl', 'Heating', 'MiscFeature', 'SaleType', 'GarageType', 'Electrical', 'SaleCondition', 'Foundation', 'Exterior1st', 'Exterior2nd', 'MasVnrType', 'FireplaceQu', 'LotConfig', 'Neighborhood', 'Condition1', 'Condition2', 'Utilities', 'BldgType', 'HouseStyle','PoolQC', 'BsmtQual', 'BsmtCond', 'GarageQual','BsmtExposure', 'ExterQual', 'ExterCond','HeatingQC', 'KitchenQual', 'BsmtFinType1','BsmtFinType2', 'Functional', 'Fence', 'GarageFinish', 'LandSlope','LotShape', 'PavedDrive', 'Street', 'Alley', 'CentralAir', 'MSSubClass', 'OverallCond', 'YrSold', 'MoSold', 'MSZoning')\n",
        "for col in columns:\n",
        "    encode = LabelEncoder()\n",
        "    encode.fit(list(train[col].values))\n",
        "    train[col] = encode.transform(list(train[col].values))\n",
        "\n",
        "for col in columns:\n",
        "    encodetest = LabelEncoder()\n",
        "    encodetest.fit(list(test[col].values))\n",
        "    test[col] = encodetest.transform(list(test[col].values))\n",
        "\n",
        "values1 = train[train.columns[:80]] \n",
        "testvalues1 = test[test.columns[:80]]\n",
        "values2 = train['SalePrice']"
      ],
      "execution_count": 154,
      "outputs": []
    },
    {
      "cell_type": "code",
      "metadata": {
        "colab": {
          "base_uri": "https://localhost:8080/"
        },
        "id": "XbhU9fvXOr8i",
        "outputId": "8aa3fefb-bfe0-4848-f766-6fe2061fe8ba"
      },
      "source": [
        "from sklearn.linear_model import LinearRegression\n",
        "regression = LinearRegression()\n",
        "regression.fit(values1, values2)\n",
        "regression.score(values1, values2)\n",
        "#training regression model"
      ],
      "execution_count": 156,
      "outputs": [
        {
          "output_type": "execute_result",
          "data": {
            "text/plain": [
              "0.8548395143943592"
            ]
          },
          "metadata": {},
          "execution_count": 156
        }
      ]
    },
    {
      "cell_type": "markdown",
      "metadata": {
        "id": "ZtTO7_RxPANu"
      },
      "source": [
        "House Sale Price prediction\n"
      ]
    },
    {
      "cell_type": "code",
      "metadata": {
        "colab": {
          "base_uri": "https://localhost:8080/",
          "height": 423
        },
        "id": "4WQpbEm2PDnX",
        "outputId": "3f7bd054-3f45-4d60-b914-3c344b7982f6"
      },
      "source": [
        "pred = regression.predict(testvalues1)\n",
        "pd.DataFrame({'Predicted Price of the House': pred})"
      ],
      "execution_count": 158,
      "outputs": [
        {
          "output_type": "execute_result",
          "data": {
            "text/html": [
              "<div>\n",
              "<style scoped>\n",
              "    .dataframe tbody tr th:only-of-type {\n",
              "        vertical-align: middle;\n",
              "    }\n",
              "\n",
              "    .dataframe tbody tr th {\n",
              "        vertical-align: top;\n",
              "    }\n",
              "\n",
              "    .dataframe thead th {\n",
              "        text-align: right;\n",
              "    }\n",
              "</style>\n",
              "<table border=\"1\" class=\"dataframe\">\n",
              "  <thead>\n",
              "    <tr style=\"text-align: right;\">\n",
              "      <th></th>\n",
              "      <th>Predicted Price of the House</th>\n",
              "    </tr>\n",
              "  </thead>\n",
              "  <tbody>\n",
              "    <tr>\n",
              "      <th>0</th>\n",
              "      <td>184936.609022</td>\n",
              "    </tr>\n",
              "    <tr>\n",
              "      <th>1</th>\n",
              "      <td>239791.092108</td>\n",
              "    </tr>\n",
              "    <tr>\n",
              "      <th>2</th>\n",
              "      <td>245071.890618</td>\n",
              "    </tr>\n",
              "    <tr>\n",
              "      <th>3</th>\n",
              "      <td>263617.412688</td>\n",
              "    </tr>\n",
              "    <tr>\n",
              "      <th>4</th>\n",
              "      <td>263185.252850</td>\n",
              "    </tr>\n",
              "    <tr>\n",
              "      <th>...</th>\n",
              "      <td>...</td>\n",
              "    </tr>\n",
              "    <tr>\n",
              "      <th>1454</th>\n",
              "      <td>152148.218848</td>\n",
              "    </tr>\n",
              "    <tr>\n",
              "      <th>1455</th>\n",
              "      <td>138020.527442</td>\n",
              "    </tr>\n",
              "    <tr>\n",
              "      <th>1456</th>\n",
              "      <td>225624.228917</td>\n",
              "    </tr>\n",
              "    <tr>\n",
              "      <th>1457</th>\n",
              "      <td>196336.422912</td>\n",
              "    </tr>\n",
              "    <tr>\n",
              "      <th>1458</th>\n",
              "      <td>318680.747439</td>\n",
              "    </tr>\n",
              "  </tbody>\n",
              "</table>\n",
              "<p>1459 rows × 1 columns</p>\n",
              "</div>"
            ],
            "text/plain": [
              "      Predicted Price of the House\n",
              "0                    184936.609022\n",
              "1                    239791.092108\n",
              "2                    245071.890618\n",
              "3                    263617.412688\n",
              "4                    263185.252850\n",
              "...                            ...\n",
              "1454                 152148.218848\n",
              "1455                 138020.527442\n",
              "1456                 225624.228917\n",
              "1457                 196336.422912\n",
              "1458                 318680.747439\n",
              "\n",
              "[1459 rows x 1 columns]"
            ]
          },
          "metadata": {},
          "execution_count": 158
        }
      ]
    }
  ]
}